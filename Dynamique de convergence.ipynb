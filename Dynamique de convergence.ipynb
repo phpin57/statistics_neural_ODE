{
 "cells": [
  {
   "cell_type": "code",
   "execution_count": 1,
   "id": "2286ab12",
   "metadata": {},
   "outputs": [],
   "source": [
    "import torch\n",
    "import torch.nn as nn\n",
    "from torch import optim\n",
    "#from torchdiffeq import odeint_adjoint as odeint\n",
    "from scipy.linalg import expm\n",
    "from torchdiffeq import odeint\n",
    "import numpy as np\n",
    "import csv\n",
    "import os\n",
    "from tqdm import tqdm\n",
    "import matplotlib.pyplot as plt"
   ]
  },
  {
   "cell_type": "code",
   "execution_count": 2,
   "id": "ee15f5c9",
   "metadata": {},
   "outputs": [],
   "source": [
    "def dydt(y, t, A):\n",
    "    return torch.matmul(y,A)"
   ]
  },
  {
   "cell_type": "code",
   "execution_count": 3,
   "id": "107c91e9",
   "metadata": {},
   "outputs": [],
   "source": [
    "def phi_A(y,A):\n",
    "    return odeint(lambda t,x : dydt(x,t,A), y, torch.tensor([0., 1.]))[1]"
   ]
  },
  {
   "cell_type": "code",
   "execution_count": 4,
   "id": "8c2b27f5",
   "metadata": {},
   "outputs": [],
   "source": [
    "class ODEFunc(torch.nn.Module):\n",
    "    def __init__(self, A):\n",
    "        super(ODEFunc, self).__init__()\n",
    "        self.A = torch.nn.Parameter(torch.tensor(A))\n",
    "        \n",
    "    def forward(self, t, y):\n",
    "        return dydt(y, t, self.A)"
   ]
  },
  {
   "cell_type": "code",
   "execution_count": 5,
   "id": "3af88b86",
   "metadata": {},
   "outputs": [],
   "source": [
    "class NeuralODE(torch.nn.Module):\n",
    "    def __init__(self, A_init):\n",
    "        super(NeuralODE, self).__init__()\n",
    "        self.func = ODEFunc(A_init)\n",
    "        self.dim=len(A_init)\n",
    "        #self.hidden_layer = torch.nn.Linear(self.dim, 100)\n",
    "        self.output_layer = torch.nn.Linear(self.dim, self.dim*self.dim)\n",
    "        \n",
    "    def forward(self, y):\n",
    "        #y = self.hidden_layer(y)\n",
    "        #y = torch.relu(y)\n",
    "        #y = self.output_layer(y)\n",
    "        return y\n",
    "    \n",
    "    def get_A(self):\n",
    "        return self.func.A"
   ]
  },
  {
   "cell_type": "code",
   "execution_count": 6,
   "id": "ddfa4911",
   "metadata": {},
   "outputs": [],
   "source": [
    "def train_model(model, x_data, y_data, epochs=300, lr=0.05):\n",
    "    training_loss = []\n",
    "    y_pred_list = []\n",
    "    #optimizer = torch.optim.SGD(model.parameters(), lr=lr)\n",
    "    criterion = torch.nn.MSELoss()\n",
    "    for epoch in tqdm(range(epochs)):\n",
    "        y_pred = odeint(model.func, x_data, torch.tensor([0., 1.]), method='dopri5')[1]\n",
    "        loss = criterion(y_pred, y_data)\n",
    "        loss.backward()\n",
    "        with torch.no_grad():\n",
    "            for param in model.parameters():\n",
    "                if param.grad is not None:\n",
    "                    param -= lr * param.grad\n",
    "                    param.grad.zero_()\n",
    "        if epoch % 20 == 0:\n",
    "            predict = torch.diag(neural_ode.get_A())\n",
    "            training_loss.append(loss.detach().numpy().item())\n",
    "            y_pred_list.append(predict.detach().numpy())\n",
    "    return training_loss, y_pred_list"
   ]
  },
  {
   "cell_type": "code",
   "execution_count": 7,
   "id": "ff3d025c",
   "metadata": {},
   "outputs": [],
   "source": [
    "dim = 10 #dimension of the matrix\n",
    "mean = 1 #mean of the diagonal values\n",
    "n_samples=100 #number of samples\n",
    "stddevs=[i/10 for i in range(1,11)] #standard deviations from 0.1 to 1\n",
    "file_path = 'data'"
   ]
  },
  {
   "cell_type": "code",
   "execution_count": 12,
   "id": "b6eb50e1",
   "metadata": {},
   "outputs": [
    {
     "data": {
      "text/plain": [
       "tensor([-0.8549,  0.0833,  0.1077, -0.3843,  0.5436,  1.5369, -1.3669, -0.2019,\n",
       "         0.3593,  0.0068])"
      ]
     },
     "execution_count": 12,
     "metadata": {},
     "output_type": "execute_result"
    }
   ],
   "source": [
    "x_data = torch.randn(dim)\n",
    "x_data"
   ]
  },
  {
   "cell_type": "code",
   "execution_count": 9,
   "id": "bf8c4d3d",
   "metadata": {},
   "outputs": [
    {
     "data": {
      "text/plain": [
       "tensor([ 4.6861,  4.6021,  6.3461,  2.8007,  0.7454,  0.9002, -4.7371,  0.5909,\n",
       "         1.3117,  2.4732])"
      ]
     },
     "execution_count": 9,
     "metadata": {},
     "output_type": "execute_result"
    }
   ],
   "source": [
    "torch.matmul(x_data,torch.matrix_exp(torch.eye(10)))"
   ]
  },
  {
   "cell_type": "code",
   "execution_count": 10,
   "id": "5c2722eb",
   "metadata": {},
   "outputs": [],
   "source": [
    "A_true=torch.eye(dim)"
   ]
  },
  {
   "cell_type": "code",
   "execution_count": 11,
   "id": "a76392f5",
   "metadata": {},
   "outputs": [
    {
     "data": {
      "text/plain": [
       "tensor([ 4.6861,  4.6021,  6.3461,  2.8007,  0.7454,  0.9002, -4.7371,  0.5909,\n",
       "         1.3117,  2.4732])"
      ]
     },
     "execution_count": 11,
     "metadata": {},
     "output_type": "execute_result"
    }
   ],
   "source": [
    "phi_A(x_data,A_true)"
   ]
  },
  {
   "cell_type": "code",
   "execution_count": 14,
   "id": "f6adeb50",
   "metadata": {},
   "outputs": [
    {
     "name": "stderr",
     "output_type": "stream",
     "text": [
      "100%|██████████| 1000/1000 [02:14<00:00,  7.44it/s]\n"
     ]
    }
   ],
   "source": [
    "A_true=-torch.eye(dim)\n",
    "\n",
    "x_data = torch.randn(n_samples, dim)\n",
    "#y_data = phi_A(x_data, A_true)\n",
    "y_data= -x_data\n",
    "\n",
    "\n",
    "neural_ode = NeuralODE(np.eye(dim).astype(np.float32))\n",
    "training_loss,y_pred_list = train_model(neural_ode, x_data, y_data,epochs=1000)\n",
    "A_estimated = neural_ode.get_A()\n",
    "frob_losses=np.linalg.norm((A_true-A_estimated).detach().numpy())"
   ]
  },
  {
   "cell_type": "code",
   "execution_count": 15,
   "id": "c33fa73b",
   "metadata": {},
   "outputs": [
    {
     "name": "stdout",
     "output_type": "stream",
     "text": [
      "{'training_loss': [13.71993637084961, 4.326269626617432, 3.091426372528076, 2.562598943710327, 2.261657238006592, 2.0648958683013916, 1.9250849485397339, 1.820055365562439, 1.7379428148269653, 1.6717894077301025, 1.6172306537628174, 1.5713801383972168, 1.5322495698928833, 1.498421311378479, 1.468855857849121, 1.4427728652954102, 1.4195739030838013, 1.3987929821014404, 1.380060076713562, 1.3630781173706055, 1.3476063013076782, 1.3334465026855469, 1.3204336166381836, 1.308430552482605, 1.2973212003707886, 1.2870063781738281, 1.2774018049240112, 1.2684344053268433, 1.2600418329238892, 1.252168893814087, 1.244767665863037, 1.2377957105636597, 1.2312161922454834, 1.2249958515167236, 1.21910560131073, 1.2135192155838013, 1.2082128524780273, 1.2031660079956055, 1.198359489440918, 1.19377601146698, 1.189400315284729, 1.185218095779419, 1.1812167167663574, 1.1773842573165894, 1.1737101078033447, 1.1701843738555908, 1.1667983531951904, 1.1635433435440063, 1.1604119539260864, 1.1573971509933472], 'y_pred': [array([0.9050876 , 0.90242237, 0.8996641 , 0.8887481 , 0.88636374,\n",
      "       0.91603315, 0.89113843, 0.90797263, 0.9009117 , 0.8986501 ],\n",
      "      dtype=float32), array([0.12081128, 0.11684836, 0.09893987, 0.04057972, 0.0322144 ,\n",
      "       0.18518019, 0.0712925 , 0.12891968, 0.09581749, 0.07750244],\n",
      "      dtype=float32), array([-0.21519837, -0.21847978, -0.23998621, -0.3076993 , -0.3174388 ,\n",
      "       -0.13906115, -0.27030984, -0.20678267, -0.24483219, -0.26687184],\n",
      "      dtype=float32), array([-0.43903702, -0.44202918, -0.46541333, -0.53807616, -0.5485721 ,\n",
      "       -0.35670575, -0.49727106, -0.43040547, -0.47110286, -0.49506754],\n",
      "      dtype=float32), array([-0.60902524, -0.61186856, -0.6364975 , -0.7125115 , -0.72351927,\n",
      "       -0.5225496 , -0.6694564 , -0.6002117 , -0.6427145 , -0.66795355],\n",
      "      dtype=float32), array([-0.7469535 , -0.74970925, -0.7752648 , -0.85381514, -0.8652068 ,\n",
      "       -0.65737224, -0.8090878 , -0.7379831 , -0.78185785, -0.8080463 ],\n",
      "      dtype=float32), array([-0.86346686, -0.8661656 , -0.89245844, -0.9730522 , -0.9847495 ,\n",
      "       -0.77140236, -0.9269929 , -0.8543597 , -0.89934224, -0.92628765],\n",
      "      dtype=float32), array([-0.9645986, -0.9672568, -0.994162 , -1.0764682, -1.0884185,\n",
      "       -0.8704645, -1.0293002, -0.9553709, -1.0012827, -1.0288583],\n",
      "      dtype=float32), array([-1.0541127, -1.0567398, -1.084169 , -1.1679496, -1.1801156,\n",
      "       -0.9582044, -1.1198303, -1.0447781, -1.09149  , -1.1196055],\n",
      "      dtype=float32), array([-1.1345226, -1.1371245, -1.1650119, -1.2500862, -1.2624401,\n",
      "       -1.0370612, -1.201134 , -1.1250927, -1.1725067, -1.2010952],\n",
      "      dtype=float32), array([-1.2075933, -1.2101738, -1.2384682, -1.3246951, -1.3372146,\n",
      "       -1.1087513, -1.2750006, -1.1980779, -1.2461171, -1.2751265],\n",
      "      dtype=float32), array([-1.2746143, -1.2771757, -1.3058361, -1.3931015, -1.4057693,\n",
      "       -1.1745296, -1.3427374, -1.2650211, -1.3136237, -1.3430121],\n",
      "      dtype=float32), array([-1.3365566, -1.3391002, -1.3680935, -1.4563036, -1.4691055,\n",
      "       -1.2353421, -1.4053295, -1.3268929, -1.3760071, -1.405741 ],\n",
      "      dtype=float32), array([-1.3941709, -1.3966979, -1.4259958, -1.5150723, -1.5279963,\n",
      "       -1.2919217, -1.4635378, -1.3844429, -1.434026 , -1.4640765],\n",
      "      dtype=float32), array([-1.4480503, -1.4505615, -1.4801407, -1.5700161, -1.5830523,\n",
      "       -1.3448471, -1.5179636, -1.4382633, -1.488279 , -1.518622 ],\n",
      "      dtype=float32), array([-1.4986718, -1.5011679, -1.5310075, -1.6216244, -1.6347642,\n",
      "       -1.3945837, -1.5690901, -1.4888307, -1.5392469, -1.5698619],\n",
      "      dtype=float32), array([-1.5464247, -1.5489061, -1.5789889, -1.6702961, -1.6835319,\n",
      "       -1.4415116, -1.6173118, -1.5365337, -1.5873225, -1.6181916],\n",
      "      dtype=float32), array([-1.5916314, -1.5940981, -1.6244087, -1.7163622, -1.7296872,\n",
      "       -1.4859459, -1.6629553, -1.5816941, -1.6328316, -1.6639382],\n",
      "      dtype=float32), array([-1.6345618, -1.637014 , -1.6675389, -1.7600988, -1.7735074,\n",
      "       -1.5281507, -1.7062942, -1.6245816, -1.6760458, -1.7073759],\n",
      "      dtype=float32), array([-1.6754438, -1.6778821, -1.7086087, -1.80174  , -1.8152273,\n",
      "       -1.568349 , -1.7475597, -1.6654235, -1.7171959, -1.748737 ],\n",
      "      dtype=float32), array([-1.714473 , -1.7168971, -1.747815 , -1.841486 , -1.8550473,\n",
      "       -1.6067318, -1.7869498, -1.7044152, -1.7564785, -1.7882192],\n",
      "      dtype=float32), array([-1.7518172, -1.7542274, -1.7853267, -1.8795087, -1.8931402,\n",
      "       -1.6434631, -1.8246344, -1.7417244, -1.7940629, -1.825993 ],\n",
      "      dtype=float32), array([-1.7876221, -1.7900182, -1.8212901, -1.9159575, -1.929655 ,\n",
      "       -1.6786858, -1.860761 , -1.7774965, -1.8300954, -1.862206 ],\n",
      "      dtype=float32), array([-1.8220147, -1.824397 , -1.8558328, -1.9509622, -1.9647225,\n",
      "       -1.7125244, -1.8954585, -1.8118582, -1.8647051, -1.8969874],\n",
      "      dtype=float32), array([-1.8551068, -1.8574754, -1.8890684, -1.9846374, -1.9984579,\n",
      "       -1.745088 , -1.9288402, -1.8449212, -1.8980043, -1.9304509],\n",
      "      dtype=float32), array([-1.8869973, -1.8893524, -1.9210953, -2.0170841, -2.0309622,\n",
      "       -1.7764733, -1.961006 , -1.8767847, -1.9300929, -1.9626969],\n",
      "      dtype=float32), array([-1.9177741, -1.9201157, -1.9520024, -2.0483925, -2.0623252,\n",
      "       -1.8067667, -1.9920453, -1.9075357, -1.9610593, -1.9938135],\n",
      "      dtype=float32), array([-1.9475152, -1.9498434, -1.9818679, -2.0786433, -2.0926278,\n",
      "       -1.8360445, -2.0220368, -1.9372528, -1.9909823, -2.023881 ],\n",
      "      dtype=float32), array([-1.976291 , -1.9786059, -2.0107627, -2.107908 , -2.1219413,\n",
      "       -1.8643752, -2.0510514, -1.9660056, -2.0199325, -2.0529702],\n",
      "      dtype=float32), array([-2.0041642, -2.0064662, -2.0387506, -2.13625  , -2.1503313,\n",
      "       -1.8918213, -2.0791538, -1.9938573, -2.0479739, -2.081145 ],\n",
      "      dtype=float32), array([-2.0311925, -2.0334814, -2.0658882, -2.1637287, -2.1778567,\n",
      "       -1.9184378, -2.1064022, -2.0208652, -2.0751638, -2.1084635],\n",
      "      dtype=float32), array([-2.0574272, -2.0597036, -2.0922277, -2.1903965, -2.2045689,\n",
      "       -1.944276 , -2.1328473, -2.0470803, -2.1015544, -2.1349783],\n",
      "      dtype=float32), array([-2.0829155, -2.0851789, -2.1178174, -2.216302 , -2.2305174,\n",
      "       -1.9693819, -2.1585376, -2.07255  , -2.127193 , -2.1607366],\n",
      "      dtype=float32), array([-2.1076999, -2.1099515, -2.1426992, -2.241489 , -2.255746 ,\n",
      "       -1.9937974, -2.183517 , -2.0973177, -2.1521225, -2.185782 ],\n",
      "      dtype=float32), array([-2.1318202, -2.1340597, -2.1669135, -2.2659976, -2.280294 ,\n",
      "       -2.017561 , -2.2078245, -2.1214213, -2.1763828, -2.2101545],\n",
      "      dtype=float32), array([-2.1553118, -2.1575391, -2.1904967, -2.2898648, -2.3041995,\n",
      "       -2.0407078, -2.2314966, -2.1448975, -2.2000105, -2.2338903],\n",
      "      dtype=float32), array([-2.1782079, -2.1804237, -2.213482 , -2.313124 , -2.3274958,\n",
      "       -2.0632703, -2.254567 , -2.1677785, -2.2230392, -2.2570229],\n",
      "      dtype=float32), array([-2.20054  , -2.202743 , -2.2358985, -2.3358064, -2.3502147,\n",
      "       -2.0852785, -2.2770665, -2.1900961, -2.2454982, -2.2795835],\n",
      "      dtype=float32), array([-2.222335 , -2.2245262, -2.2577753, -2.3579416, -2.3723845,\n",
      "       -2.10676  , -2.2990236, -2.2118773, -2.267417 , -2.3016007],\n",
      "      dtype=float32), array([-2.2436197, -2.2457988, -2.2791393, -2.3795555, -2.3940322,\n",
      "       -2.1277409, -2.320465 , -2.233149 , -2.2888207, -2.323101 ],\n",
      "      dtype=float32), array([-2.2644176, -2.2665865, -2.3000135, -2.4006734, -2.4151835,\n",
      "       -2.1482444, -2.3414152, -2.2539341, -2.3097348, -2.3441088],\n",
      "      dtype=float32), array([-2.2847521, -2.286909 , -2.3204222, -2.4213178, -2.43586  ,\n",
      "       -2.1682916, -2.361896 , -2.2742562, -2.330182 , -2.3646464],\n",
      "      dtype=float32), array([-2.3046439, -2.306789 , -2.3403862, -2.44151  , -2.456083 ,\n",
      "       -2.187904 , -2.3819299, -2.294136 , -2.350183 , -2.3847358],\n",
      "      dtype=float32), array([-2.3241117, -2.3262453, -2.359924 , -2.46127  , -2.4758735,\n",
      "       -2.2071009, -2.4015353, -2.3135927, -2.3697577, -2.4043965],\n",
      "      dtype=float32), array([-2.343175 , -2.3452964, -2.379055 , -2.480617 , -2.4952495,\n",
      "       -2.2258995, -2.4207313, -2.3326447, -2.3889241, -2.4236465],\n",
      "      dtype=float32), array([-2.3618486, -2.3639598, -2.3977947, -2.499568 , -2.514229 ,\n",
      "       -2.2443168, -2.439535 , -2.3513086, -2.4076998, -2.442503 ],\n",
      "      dtype=float32), array([-2.380151 , -2.3822513, -2.4161615, -2.5181394, -2.532828 ,\n",
      "       -2.2623687, -2.4579632, -2.3696012, -2.4261007, -2.4609835],\n",
      "      dtype=float32), array([-2.3980963, -2.4001853, -2.4341698, -2.5363464, -2.551062 ,\n",
      "       -2.2800696, -2.4760306, -2.3875372, -2.4441423, -2.4791021],\n",
      "      dtype=float32), array([-2.415699 , -2.4177766, -2.4518328, -2.5542037, -2.568946 ,\n",
      "       -2.297434 , -2.4937515, -2.4051306, -2.4618385, -2.4968734],\n",
      "      dtype=float32), array([-2.4329717, -2.435038 , -2.4691646, -2.5717247, -2.5864923,\n",
      "       -2.314474 , -2.5111394, -2.4223948, -2.4792025, -2.514311 ],\n",
      "      dtype=float32)], 'frob': 4.8006945}\n"
     ]
    }
   ],
   "source": [
    "data = {'training_loss': training_loss, 'y_pred':y_pred_list,'frob':frob_losses}\n",
    "print(data)"
   ]
  },
  {
   "cell_type": "code",
   "execution_count": 44,
   "id": "fb5c80a9",
   "metadata": {},
   "outputs": [
    {
     "data": {
      "image/png": "[encoded data removed]",
      "text/plain": [
       "<Figure size 640x480 with 1 Axes>"
      ]
     },
     "metadata": {},
     "output_type": "display_data"
    }
   ],
   "source": [
    "loss=data[\"training_loss\"]\n",
    "\n",
    "x = np.linspace(1, len(loss), num=len(loss))\n",
    "y = 6/x\n",
    "\n",
    "# tracé des deux courbes sur le même graphique\n",
    "plt.plot(loss, label='loss')\n",
    "plt.plot(y, label='courbe en 1/x')\n",
    "plt.legend()\n",
    "plt.show()"
   ]
  },
  {
   "cell_type": "code",
   "execution_count": 34,
   "id": "156f140a",
   "metadata": {},
   "outputs": [
    {
     "data": {
      "text/plain": [
       "Parameter containing:\n",
       "tensor([[-8.4484e-01, -2.0422e-03, -3.6087e-04, -2.4732e-02, -3.1859e-02,\n",
       "         -1.2517e-02, -1.5567e-02,  1.9247e-02,  8.4842e-03,  2.1266e-02],\n",
       "        [-2.0422e-03, -8.4102e-01, -1.3935e-02,  1.8842e-02,  9.2961e-04,\n",
       "         -2.8639e-02,  1.1925e-04, -7.4272e-03, -4.1580e-03,  2.7873e-02],\n",
       "        [-3.6095e-04, -1.3935e-02, -8.8017e-01, -9.0461e-04, -1.8528e-02,\n",
       "          1.5231e-02, -3.2782e-03, -1.5080e-02,  9.2355e-03,  3.4469e-04],\n",
       "        [-2.4732e-02,  1.8842e-02, -9.0448e-04, -8.8509e-01,  1.5920e-02,\n",
       "         -9.9697e-04, -1.9976e-03, -2.0264e-02,  2.2432e-02, -1.3324e-03],\n",
       "        [-3.1859e-02,  9.2962e-04, -1.8527e-02,  1.5920e-02, -8.9140e-01,\n",
       "          1.5397e-02,  9.9756e-03,  5.9182e-03, -1.4802e-02,  1.1076e-04],\n",
       "        [-1.2517e-02, -2.8639e-02,  1.5231e-02, -9.9690e-04,  1.5397e-02,\n",
       "         -8.8902e-01, -5.8800e-04, -1.4180e-02, -1.5285e-03,  3.4647e-03],\n",
       "        [-1.5567e-02,  1.1918e-04, -3.2783e-03, -1.9977e-03,  9.9755e-03,\n",
       "         -5.8808e-04, -8.7817e-01,  1.3894e-02, -7.9409e-03,  6.6127e-03],\n",
       "        [ 1.9247e-02, -7.4272e-03, -1.5080e-02, -2.0264e-02,  5.9181e-03,\n",
       "         -1.4180e-02,  1.3894e-02, -8.6805e-01, -2.4193e-02,  6.1544e-03],\n",
       "        [ 8.4845e-03, -4.1580e-03,  9.2355e-03,  2.2432e-02, -1.4802e-02,\n",
       "         -1.5285e-03, -7.9409e-03, -2.4193e-02, -9.2696e-01,  1.1125e-02],\n",
       "        [ 2.1266e-02,  2.7872e-02,  3.4483e-04, -1.3323e-03,  1.1084e-04,\n",
       "          3.4646e-03,  6.6128e-03,  6.1543e-03,  1.1125e-02, -9.3755e-01]],\n",
       "       requires_grad=True)"
      ]
     },
     "execution_count": 34,
     "metadata": {},
     "output_type": "execute_result"
    }
   ],
   "source": [
    "A_estimated"
   ]
  }
 ],
 "metadata": {
  "kernelspec": {
   "display_name": "Python 3 (ipykernel)",
   "language": "python",
   "name": "python3"
  },
  "language_info": {
   "codemirror_mode": {
    "name": "ipython",
    "version": 3
   },
   "file_extension": ".py",
   "mimetype": "text/x-python",
   "name": "python",
   "nbconvert_exporter": "python",
   "pygments_lexer": "ipython3",
   "version": "3.9.15"
  }
 },
 "nbformat": 4,
 "nbformat_minor": 5
}
