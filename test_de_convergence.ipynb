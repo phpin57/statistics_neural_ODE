{
  "nbformat": 4,
  "nbformat_minor": 0,
  "metadata": {
    "colab": {
      "provenance": []
    },
    "kernelspec": {
      "name": "python3",
      "display_name": "Python 3"
    },
    "language_info": {
      "name": "python"
    }
  },
  "cells": [
    {
      "cell_type": "code",
      "execution_count": 8,
      "metadata": {
        "id": "xKh3OIAscOKu"
      },
      "outputs": [],
      "source": [
        "import numpy as np\n",
        "from scipy.linalg import expm,logm\n",
        "from scipy.integrate import simps\n",
        "from tqdm import tqdm"
      ]
    },
    {
      "cell_type": "markdown",
      "source": [
        "Fonctions intermédiaires"
      ],
      "metadata": {
        "id": "IDI3y2dpcXUY"
      }
    },
    {
      "cell_type": "code",
      "source": [
        "#pour virer les termes égaux à 0\n",
        "def apply_threshold(matrix, threshold):\n",
        "    result = matrix.copy()\n",
        "    \n",
        "    for i in range(matrix.shape[0]):\n",
        "        for j in range(matrix.shape[1]):\n",
        "            if abs(result[i, j]) < threshold:\n",
        "                result[i, j] = 0.0\n",
        "    return result\n",
        "\n",
        "#pour print une matrice de manière sympa\n",
        "def printArray(arr):\n",
        "    for row in arr:\n",
        "        for item in row:\n",
        "            print(\"{:8.3f}\".format(item), end = \" \")\n",
        "        print(\"\")"
      ],
      "metadata": {
        "id": "ekg5UwiZcUL2"
      },
      "execution_count": 9,
      "outputs": []
    },
    {
      "cell_type": "markdown",
      "source": [
        "## Fonctions utiles pour les calculs"
      ],
      "metadata": {
        "id": "0A86i9lKcjPo"
      }
    },
    {
      "cell_type": "code",
      "source": [
        "#calcul de Tr(B^T A)\n",
        "def frobenius_inner_product(A, B):\n",
        "    return np.sum(A * B)\n",
        "\n",
        "#matrice élémentaire\n",
        "def elementary_matrix(k, l, n):\n",
        "    E = np.zeros((n,n))\n",
        "    E[k, l] = 1\n",
        "    return E\n",
        "\n",
        "def energie(A,x,y):\n",
        "  N = len(x)  # Nombre de vecteurs x_i et y_i\n",
        "  diff = sum([np.linalg.norm(A@x_i - y_i) for (x_i,y_i) in zip(x,y)])\n",
        "  return diff/N\n",
        "\n",
        "#intégrande pour le calcul de la dérivée de Fréchet\n",
        "def integrand(A,k,l,E_kl,t):\n",
        "  return np.array([(expm((1-tau)*A))@E_kl@(expm(tau*A)) for tau in t])\n",
        "\n",
        "#dérivée sens fréchet\n",
        "def frechet(A,k,l):\n",
        "  n=A.shape[0]\n",
        "  E_kl=elementary_matrix(k,l,n)\n",
        "  t = np.linspace(0, 1, 101)\n",
        "  integ = integrand(A,k,l,E_kl,t)\n",
        "  A_reshaped = integ.reshape((101,n*n))\n",
        "  return simps(A_reshaped.T,t).reshape((n,n))\n",
        "\n",
        "#somme des x_i y_i^T pour calculer X et S\n",
        "def calcul_vecteurs(x_vectors,y_vectors):\n",
        "    n = len(x_vectors)\n",
        "    result = np.zeros_like(x_vectors[0].reshape(-1, 1) @ y_vectors[0].reshape(1, -1))\n",
        "\n",
        "    for i in range(n):\n",
        "        xi = x_vectors[i]\n",
        "        yi = y_vectors[i]\n",
        "        result += xi.reshape(-1, 1) @ yi.reshape(1, -1)\n",
        "    return result\n",
        "\n",
        "def calcul_X(x):\n",
        "  return calcul_vecteurs(x,x)\n",
        "\n",
        "def calcul_Y(x,y):\n",
        "  return calcul_vecteurs(y,x)\n",
        "\n",
        "#terme correspondant à la dérivée de la régression\n",
        "def regression_term(A,X,S):\n",
        "  return (expm(A)@X-S)\n",
        "\n",
        "def grad_kl(A,k,l,reg_term):\n",
        "  return frobenius_inner_product(frechet(A,k,l),reg_term)\n",
        "\n",
        "#matrice qui recense l'intégralité de l'évolution des coeffs de A\n",
        "def grad_matrix(A,X,S):\n",
        "  reg_term=regression_term(A,X,S)\n",
        "  n=A.shape[0]\n",
        "  grad_matrix=np.zeros((n,n))\n",
        "  for k in range(n):\n",
        "    for l in range(n):\n",
        "      grad_matrix[k,l]=grad_kl(A,k,l,reg_term)\n",
        "  return grad_matrix\n",
        "\n",
        "def matrix_log(A, num_terms):\n",
        "    n = A.shape[0]\n",
        "    identity = np.eye(n)\n",
        "    term = A - identity\n",
        "    result = term\n",
        "    for i in range(2, num_terms + 1):\n",
        "        term = np.matmul(term, (A - identity) / i)\n",
        "        result += term\n",
        "    return result"
      ],
      "metadata": {
        "id": "AijtY0Epcbke"
      },
      "execution_count": 10,
      "outputs": []
    },
    {
      "cell_type": "markdown",
      "source": [
        "## Calcul de exp(A(s))"
      ],
      "metadata": {
        "id": "Q6ETdajfdXey"
      }
    },
    {
      "cell_type": "code",
      "source": [
        "#calcule A(T) avec un intervalle de temps dt\n",
        "def compute_A(A0, X, S,x,y, dt, T, B):\n",
        "    A = A0.copy()\n",
        "    t = 0    \n",
        "    iteration = 0\n",
        "    it_total=int(T/dt)\n",
        "    \n",
        "    while t < T:\n",
        "        dA_dt = -grad_matrix(A, X, S)\n",
        "        A += dA_dt * dt\n",
        "        t += dt\n",
        "        iteration += 1\n",
        "        \n",
        "        if iteration % 50 == 0:\n",
        "            print(iteration,\"/\",it_total)\n",
        "            norm_diff = np.linalg.norm(expm(A) - B)\n",
        "            tqdm.write(f\"Norm diff: {norm_diff}\")\n",
        "            if norm_diff<1e-6:\n",
        "              break\n",
        "    norm_diff = np.linalg.norm(expm(A) - B)\n",
        "    tqdm.write(f\"Final time: {t}, Norm diff: {norm_diff}\")\n",
        "    \n",
        "    return A"
      ],
      "metadata": {
        "id": "0uaOkoopcpyH"
      },
      "execution_count": 31,
      "outputs": []
    },
    {
      "cell_type": "markdown",
      "source": [
        "## Exemples"
      ],
      "metadata": {
        "id": "uOvswkWUdqAa"
      }
    },
    {
      "cell_type": "code",
      "source": [
        "#mapping B\n",
        "B=np.diag([-1.,-1.])\n",
        "\n",
        "#Données\n",
        "x=np.array([[1,0.2],[0.5,2]],dtype=float)\n",
        "y=np.array([B@x_i for x_i in x])\n",
        "\n",
        "#calcul de X et S\n",
        "X=calcul_X(x)\n",
        "S=calcul_Y(x,y)\n",
        "\n",
        "\n",
        "#initialisation\n",
        "A_init=np.random.randn(2,2)"
      ],
      "metadata": {
        "id": "TrCZOhQZdoqb"
      },
      "execution_count": 27,
      "outputs": []
    },
    {
      "cell_type": "code",
      "source": [
        "#calcul de A(s)\n",
        "A_final=compute_A(A_init,X,S,x,y,0.1,100,B)"
      ],
      "metadata": {
        "colab": {
          "base_uri": "https://localhost:8080/"
        },
        "id": "MNv9NZFRd4Di",
        "outputId": "67be8850-f4f4-486c-f455-aaf18905f7a1"
      },
      "execution_count": 32,
      "outputs": [
        {
          "output_type": "stream",
          "name": "stdout",
          "text": [
            "50 / 1000\n",
            "Norm diff: 0.5210810212092581\n",
            "100 / 1000\n",
            "Norm diff: 9.472971168376393e-07\n",
            "Final time: 9.99999999999998, Norm diff: 9.472971168376393e-07\n"
          ]
        }
      ]
    },
    {
      "cell_type": "code",
      "source": [
        "#Affichage de A et exp(A)\n",
        "printArray(A_final)\n",
        "printArray(expm(A_final))"
      ],
      "metadata": {
        "colab": {
          "base_uri": "https://localhost:8080/"
        },
        "id": "zFnAUtl2eHlC",
        "outputId": "1fd53820-2d16-42fa-ea28-7f7eede90d4f"
      },
      "execution_count": 33,
      "outputs": [
        {
          "output_type": "stream",
          "name": "stdout",
          "text": [
            "   1.565    3.498 \n",
            "  -3.522   -1.565 \n",
            "  -1.000    0.000 \n",
            "  -0.000   -1.000 \n"
          ]
        }
      ]
    },
    {
      "cell_type": "markdown",
      "source": [
        "## Si X et l'initialisation sont diagonaux, A(s) reste diagonal"
      ],
      "metadata": {
        "id": "4OGpIp2CgZzd"
      }
    },
    {
      "cell_type": "code",
      "source": [
        "#mapping B\n",
        "B=np.diag([-1.,-1.])\n",
        "\n",
        "#Données\n",
        "x=np.array([[1,0],[0,2]],dtype=float)\n",
        "y=np.array([B@x_i for x_i in x])\n",
        "\n",
        "#calcul de X et S\n",
        "X=calcul_X(x)\n",
        "S=calcul_Y(x,y)\n",
        "\n",
        "\n",
        "#initialisation\n",
        "A_init=np.diag([1.,3.])"
      ],
      "metadata": {
        "id": "oQK17libgpBZ"
      },
      "execution_count": 34,
      "outputs": []
    },
    {
      "cell_type": "code",
      "source": [
        "A_final=A_init.copy()"
      ],
      "metadata": {
        "id": "YPzaFLvKg547"
      },
      "execution_count": 35,
      "outputs": []
    },
    {
      "cell_type": "code",
      "source": [
        "#check qu'on reste diagonal\n",
        "A_final-= 0.05 * grad_matrix(A_final.copy(),X,S)\n",
        "print(A_final)\n",
        "print(np.linalg.norm(expm(A_final)-B))"
      ],
      "metadata": {
        "colab": {
          "base_uri": "https://localhost:8080/"
        },
        "id": "ZGQ9hMRRgzQR",
        "outputId": "6b5e8919-5556-4f10-83ab-7c99338c458d"
      },
      "execution_count": 37,
      "outputs": [
        {
          "output_type": "stream",
          "name": "stdout",
          "text": [
            "[[-1.09138033e-01  0.00000000e+00]\n",
            " [ 0.00000000e+00 -1.66405732e+02]]\n",
            "2.1440887982498373\n"
          ]
        }
      ]
    }
  ]
}