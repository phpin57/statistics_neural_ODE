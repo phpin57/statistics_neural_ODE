{
 "cells": [
  {
   "cell_type": "code",
   "execution_count": 2,
   "id": "2286ab12",
   "metadata": {},
   "outputs": [],
   "source": [
    "import torch\n",
    "import torch.nn as nn\n",
    "from torch import optim\n",
    "#from torchdiffeq import odeint_adjoint as odeint\n",
    "from scipy.linalg import expm\n",
    "from torchdiffeq import odeint\n",
    "import numpy as np\n",
    "import csv\n",
    "import os\n",
    "from tqdm import tqdm\n",
    "import matplotlib.pyplot as plt"
   ]
  },
  {
   "cell_type": "code",
   "execution_count": 13,
   "id": "ee15f5c9",
   "metadata": {},
   "outputs": [],
   "source": [
    "def dydt(y, t, A):\n",
    "    return torch.matmul(y,A)"
   ]
  },
  {
   "cell_type": "code",
   "execution_count": 19,
   "id": "107c91e9",
   "metadata": {},
   "outputs": [],
   "source": [
    "def phi_A(y,A):\n",
    "    return odeint(lambda t,x : dydt(x,t,A), y, torch.tensor([0., 1.]))[1]"
   ]
  },
  {
   "cell_type": "code",
   "execution_count": 5,
   "id": "8c2b27f5",
   "metadata": {},
   "outputs": [],
   "source": [
    "class ODEFunc(torch.nn.Module):\n",
    "    def __init__(self, A):\n",
    "        super(ODEFunc, self).__init__()\n",
    "        self.A = torch.nn.Parameter(torch.tensor(A))\n",
    "        \n",
    "    def forward(self, t, y):\n",
    "        return dydt(y, t, self.A)"
   ]
  },
  {
   "cell_type": "code",
   "execution_count": 52,
   "id": "3af88b86",
   "metadata": {},
   "outputs": [],
   "source": [
    "class NeuralODE(torch.nn.Module):\n",
    "    def __init__(self, A_init):\n",
    "        super(NeuralODE, self).__init__()\n",
    "        self.func = ODEFunc(A_init)\n",
    "        self.dim=len(A_init)\n",
    "        #self.hidden_layer = torch.nn.Linear(self.dim, 100)\n",
    "        self.output_layer = torch.nn.Linear(self.dim, self.dim*self.dim)\n",
    "        \n",
    "    def forward(self, y):\n",
    "        #y = self.hidden_layer(y)\n",
    "        #y = torch.relu(y)\n",
    "        #y = self.output_layer(y)\n",
    "        return y\n",
    "    \n",
    "    def get_A(self):\n",
    "        return self.func.A"
   ]
  },
  {
   "cell_type": "code",
   "execution_count": 53,
   "id": "ddfa4911",
   "metadata": {},
   "outputs": [],
   "source": [
    "def train_model(model, x_data, y_data, epochs=300, lr=0.05):\n",
    "    training_loss = []\n",
    "    y_pred_list = []\n",
    "    #optimizer = torch.optim.SGD(model.parameters(), lr=lr)\n",
    "    criterion = torch.nn.MSELoss()\n",
    "    for epoch in tqdm(range(epochs)):\n",
    "        y_pred = odeint(model.func, x_data, torch.tensor([0., 1.]), method='dopri5')[1]\n",
    "        loss = criterion(y_pred, y_data)\n",
    "        loss.backward()\n",
    "        with torch.no_grad():\n",
    "            for param in model.parameters():\n",
    "                if param.grad is not None:\n",
    "                    param -= lr * param.grad\n",
    "                    param.grad.zero_()\n",
    "        if epoch % 20 == 0:\n",
    "            predict = torch.diag(neural_ode.get_A())\n",
    "            training_loss.append(loss.detach().numpy().item())\n",
    "            y_pred_list.append(predict.detach().numpy())\n",
    "    return training_loss, y_pred_list"
   ]
  },
  {
   "cell_type": "code",
   "execution_count": 54,
   "id": "ff3d025c",
   "metadata": {},
   "outputs": [],
   "source": [
    "dim = 10 #dimension of the matrix\n",
    "mean = 1 #mean of the diagonal values\n",
    "n_samples=100 #number of samples\n",
    "stddevs=[i/10 for i in range(1,11)] #standard deviations from 0.1 to 1\n",
    "file_path = 'data'"
   ]
  },
  {
   "cell_type": "code",
   "execution_count": 61,
   "id": "bf8c4d3d",
   "metadata": {},
   "outputs": [
    {
     "data": {
      "text/plain": [
       "tensor([-1.4467, -1.4081,  2.4764,  2.8332, -4.8957,  0.1473, -2.3454, -0.5198,\n",
       "         3.4353, -1.0526])"
      ]
     },
     "execution_count": 61,
     "metadata": {},
     "output_type": "execute_result"
    }
   ],
   "source": [
    "torch.matmul(torch.matrix_exp(torch.eye(10)),x_data)"
   ]
  },
  {
   "cell_type": "code",
   "execution_count": 55,
   "id": "b6eb50e1",
   "metadata": {},
   "outputs": [],
   "source": [
    "x_data = torch.randn(dim)"
   ]
  },
  {
   "cell_type": "code",
   "execution_count": 33,
   "id": "16316dca",
   "metadata": {},
   "outputs": [
    {
     "data": {
      "text/plain": [
       "torch.Size([10])"
      ]
     },
     "execution_count": 33,
     "metadata": {},
     "output_type": "execute_result"
    }
   ],
   "source": [
    "x_data.shape"
   ]
  },
  {
   "cell_type": "code",
   "execution_count": 34,
   "id": "a76392f5",
   "metadata": {},
   "outputs": [
    {
     "data": {
      "text/plain": [
       "tensor([ 0.4056, -0.2375,  0.0867, -0.3311,  0.6088,  0.0856,  0.5646, -0.1836,\n",
       "        -0.0735, -0.0088])"
      ]
     },
     "execution_count": 34,
     "metadata": {},
     "output_type": "execute_result"
    }
   ],
   "source": [
    "phi_A(x_data,A_true)"
   ]
  },
  {
   "cell_type": "code",
   "execution_count": 56,
   "id": "f6adeb50",
   "metadata": {},
   "outputs": [
    {
     "name": "stderr",
     "output_type": "stream",
     "text": [
      "100%|██████████| 1000/1000 [01:29<00:00, 11.21it/s]\n"
     ]
    }
   ],
   "source": [
    "A_true=-torch.eye(dim)\n",
    "\n",
    "x_data = torch.randn(n_samples, dim)\n",
    "y_data = phi_A(x_data, A_true)\n",
    "\n",
    "neural_ode = NeuralODE(np.eye(dim).astype(np.float32))\n",
    "training_loss,y_pred_list = train_model(neural_ode, x_data, y_data,epochs=1000)\n",
    "A_estimated = neural_ode.get_A()\n",
    "frob_losses=np.linalg.norm((A_true-A_estimated).detach().numpy())"
   ]
  },
  {
   "cell_type": "code",
   "execution_count": 57,
   "id": "c33fa73b",
   "metadata": {},
   "outputs": [
    {
     "name": "stdout",
     "output_type": "stream",
     "text": [
      "{'training_loss': [5.422422885894775, 1.1721107959747314, 0.6058645248413086, 0.38710665702819824, 0.27376657724380493, 0.20566073060035706, 0.16084948182106018, 0.12949219346046448, 0.1065472885966301, 0.08917859196662903, 0.07567563652992249, 0.06494960188865662, 0.0562768392264843, 0.04915909841656685, 0.04324308782815933, 0.03827190399169922, 0.03405476361513138, 0.03044727072119713, 0.027338415384292603, 0.024641498923301697, 0.022288067266345024, 0.02022336982190609, 0.01840316690504551, 0.016791412606835365, 0.015358440577983856, 0.0140796834602952, 0.012934631668031216, 0.011906053870916367, 0.010979372076690197, 0.010142219252884388, 0.00938400998711586, 0.008695653639733791, 0.00806931871920824, 0.00749822985380888, 0.006976468488574028, 0.006498883944004774, 0.00606098398566246, 0.005658786278218031, 0.005288794171065092, 0.004947923123836517, 0.0046334341168403625, 0.004342891741544008, 0.004074131138622761, 0.0038251872174441814, 0.0035943486727774143, 0.0033800548408180475, 0.0031808982603251934, 0.0029956211801618338, 0.00282308179885149, 0.002662254497408867], 'y_pred': [array([0.9301813 , 0.92467326, 0.9340509 , 0.9359459 , 0.9460835 ,\n",
      "       0.9334303 , 0.94247013, 0.93944454, 0.95158476, 0.9350225 ],\n",
      "      dtype=float32), array([0.33923835, 0.31502077, 0.36870655, 0.37432817, 0.4384058 ,\n",
      "       0.3626221 , 0.4173007 , 0.395994  , 0.4698273 , 0.37009883],\n",
      "      dtype=float32), array([0.10368643, 0.07829484, 0.13806114, 0.14338636, 0.2161056 ,\n",
      "       0.13085932, 0.19201183, 0.1677024 , 0.25053003, 0.13857268],\n",
      "      dtype=float32), array([-0.04320032, -0.06849205, -0.00711888, -0.00210751,  0.0732659 ,\n",
      "       -0.01472175,  0.04818892,  0.02294927,  0.10829738, -0.00712042],\n",
      "      dtype=float32), array([-0.14876857, -0.17365354, -0.11203106, -0.10729776, -0.0311623 ,\n",
      "       -0.11980015, -0.0565606 , -0.08208275,  0.00380257, -0.11237552],\n",
      "      dtype=float32), array([-0.23041053, -0.2547908 , -0.19347575, -0.18899079, -0.11289537,\n",
      "       -0.20130828, -0.13832642, -0.16385807, -0.07825633, -0.19407329],\n",
      "      dtype=float32), array([-0.2964683 , -0.32031256, -0.25956962, -0.25531045, -0.17965044,\n",
      "       -0.26741293, -0.2049687 , -0.23037547, -0.14545234, -0.26036677],\n",
      "      dtype=float32), array([-0.35158747, -0.37488994, -0.31485516, -0.31080422, -0.23579222,\n",
      "       -0.32267967, -0.26091778, -0.28612727, -0.20208913, -0.3158174 ],\n",
      "      dtype=float32), array([-0.39861906, -0.421385  , -0.36213034, -0.35827354, -0.28402948,\n",
      "       -0.36991805, -0.30891624, -0.33388728, -0.25084627, -0.36323372],\n",
      "      dtype=float32), array([-0.4394372 , -0.4616766 , -0.4032396 , -0.39956537, -0.32615823,\n",
      "       -0.4109794 , -0.35077876, -0.3754876 , -0.29350454, -0.40446666],\n",
      "      dtype=float32), array([-0.475339  , -0.49706402, -0.43946224, -0.43596074, -0.36342978,\n",
      "       -0.44714686, -0.3877678 , -0.4122007 , -0.33130702, -0.44079974],\n",
      "      dtype=float32), array([-0.50725865, -0.52848214, -0.47172138, -0.4683842 , -0.39675033,\n",
      "       -0.47934607, -0.42079672, -0.44494584, -0.36515537, -0.47315913],\n",
      "      dtype=float32), array([-0.5358909 , -0.55662566, -0.50070465, -0.49752447, -0.42679715,\n",
      "       -0.5082663 , -0.45054698, -0.4744086 , -0.395724  , -0.5022343 ],\n",
      "      dtype=float32), array([-0.56176585, -0.5820248 , -0.5269378 , -0.52390784, -0.45408905,\n",
      "       -0.5344344 , -0.47754052, -0.50111336, -0.42353037, -0.5285525 ],\n",
      "      dtype=float32), array([-0.5852978 , -0.60509294, -0.5508312 , -0.54794556, -0.4790327 ,\n",
      "       -0.55826145, -0.50218576, -0.52547014, -0.44898015, -0.55252534],\n",
      "      dtype=float32), array([-0.6068155 , -0.6261589 , -0.57271177, -0.56996524, -0.50195193,\n",
      "       -0.58007485, -0.52480793, -0.5478054 , -0.47239694, -0.5744803 ],\n",
      "      dtype=float32), array([-0.6265849 , -0.64548755, -0.59284395, -0.5902313 , -0.5231093 ,\n",
      "       -0.6001392 , -0.54567057, -0.56838316, -0.49404302, -0.5946825 ],\n",
      "      dtype=float32), array([-0.64482343, -0.6632962 , -0.6114438 , -0.6089606 , -0.5427203 ,\n",
      "       -0.61867124, -0.56498975, -0.58742005, -0.5141338 , -0.6133488 ],\n",
      "      dtype=float32), array([-0.6617117 , -0.6797649 , -0.6286912 , -0.62633324, -0.5609638 ,\n",
      "       -0.63585085, -0.5829449 , -0.60509586, -0.53284866, -0.6306592 ],\n",
      "      dtype=float32), array([-0.67740095, -0.69504416, -0.6447368 , -0.6425001 , -0.5779902 ,\n",
      "       -0.651829  , -0.5996866 , -0.62156147, -0.55033785, -0.64676493],\n",
      "      dtype=float32), array([-0.6920188 , -0.7092616 , -0.6597081 , -0.65758884, -0.59392685,\n",
      "       -0.66673297, -0.61534244, -0.6369444 , -0.56672907, -0.66179353],\n",
      "      dtype=float32), array([-0.70567447, -0.722526  , -0.67371374, -0.67170846, -0.6088827 ,\n",
      "       -0.6806717 , -0.63002133, -0.65135396, -0.58213115, -0.6758541 ],\n",
      "      dtype=float32), array([-0.71846175, -0.73493075, -0.6868476 , -0.68495286, -0.62295145,\n",
      "       -0.6937391 , -0.64381707, -0.6648838 , -0.5966386 , -0.6890405 ],\n",
      "      dtype=float32), array([-0.73046196, -0.74655676, -0.6991908 , -0.69740343, -0.6362144 ,\n",
      "       -0.7060163 , -0.6568111 , -0.6776154 , -0.6103326 , -0.70143414],\n",
      "      dtype=float32), array([-0.741746  , -0.75747454, -0.710814  , -0.7091307 , -0.64874256,\n",
      "       -0.7175738 , -0.66907436, -0.6896196 , -0.6232843 , -0.71310556],\n",
      "      dtype=float32), array([-0.75237566, -0.76774585, -0.7217792 , -0.7201971 , -0.6605983 ,\n",
      "       -0.72847384, -0.6806692 , -0.70095867, -0.63555634, -0.7241172 ],\n",
      "      dtype=float32), array([-0.76240563, -0.77742517, -0.73214096, -0.73065716, -0.6718363 ,\n",
      "       -0.738771  , -0.6916504 , -0.71168745, -0.6472037 , -0.7345237 ],\n",
      "      dtype=float32), array([-0.77188456, -0.78656054, -0.7419479 , -0.7405595 , -0.68250537,\n",
      "       -0.74851364, -0.7020666 , -0.7218544 , -0.65827537, -0.7443735 ],\n",
      "      dtype=float32), array([-0.7808552 , -0.7951949 , -0.75124305, -0.7499474 , -0.692649  ,\n",
      "       -0.7577449 , -0.71196115, -0.73150295, -0.6688149 , -0.7537101 ],\n",
      "      dtype=float32), array([-0.78935605, -0.80336636, -0.7600647 , -0.75885934, -0.7023059 ,\n",
      "       -0.7665032 , -0.72137284, -0.7406717 , -0.67886126, -0.76257163],\n",
      "      dtype=float32), array([-0.7974219 , -0.8111093 , -0.76844746, -0.76733005, -0.7115107 ,\n",
      "       -0.7748233 , -0.7303363 , -0.7493954 , -0.68844944, -0.7709929 ],\n",
      "      dtype=float32), array([-0.8050833 , -0.8184546 , -0.77642244, -0.7753906 , -0.72029513,\n",
      "       -0.7827361 , -0.738883  , -0.7577053 , -0.6976111 , -0.77900493],\n",
      "      dtype=float32), array([-0.8123688 , -0.82543   , -0.78401786, -0.7830692 , -0.7286872 ,\n",
      "       -0.7902696 , -0.7470412 , -0.7656295 , -0.70637465, -0.7866359 ],\n",
      "      dtype=float32), array([-0.8193034 , -0.832061  , -0.791259  , -0.79039115, -0.736713  ,\n",
      "       -0.79744947, -0.75483644, -0.7731936 , -0.714766  , -0.79391146],\n",
      "      dtype=float32), array([-0.8259102 , -0.83837   , -0.798169  , -0.7973798 , -0.7443956 ,\n",
      "       -0.80429864, -0.7622921 , -0.78042114, -0.72280866, -0.80085456],\n",
      "      dtype=float32), array([-0.8322105 , -0.8443783 , -0.80476904, -0.80405617, -0.75175667,\n",
      "       -0.81083834, -0.76942945, -0.78733325, -0.73052406, -0.8074865 ],\n",
      "      dtype=float32), array([-0.8382233 , -0.8501048 , -0.8110784 , -0.8104396 , -0.75881517,\n",
      "       -0.81708753, -0.77626806, -0.7939489 , -0.7379318 , -0.81382644],\n",
      "      dtype=float32), array([-0.8439662 , -0.85556716, -0.81711453, -0.816548  , -0.7655894 ,\n",
      "       -0.8230644 , -0.78282547, -0.8002863 , -0.74504995, -0.8198921 ],\n",
      "      dtype=float32), array([-0.8494554 , -0.8607812 , -0.82289374, -0.8223975 , -0.77209574,\n",
      "       -0.82878464, -0.7891182 , -0.8063617 , -0.75189507, -0.8256998 ],\n",
      "      dtype=float32), array([-0.8547058 , -0.86576176, -0.82843083, -0.82800305, -0.77834916,\n",
      "       -0.83426327, -0.7951614 , -0.81218994, -0.7584824 , -0.83126426],\n",
      "      dtype=float32), array([-0.85973096, -0.87052256, -0.8337398 , -0.8333783 , -0.7843638 ,\n",
      "       -0.83951414, -0.80096895, -0.8177849 , -0.76482594, -0.8365995 ],\n",
      "      dtype=float32), array([-0.86454356, -0.8750757 , -0.8388332 , -0.83853614, -0.79015243,\n",
      "       -0.8445499 , -0.8065537 , -0.82315964, -0.7709386 , -0.84171814],\n",
      "      dtype=float32), array([-0.8691555 , -0.87943316, -0.8437229 , -0.84348834, -0.795727  ,\n",
      "       -0.8493823 , -0.8119274 , -0.8283256 , -0.7768324 , -0.846632  ],\n",
      "      dtype=float32), array([-0.8735774 , -0.88360554, -0.84841955, -0.848246  , -0.8010987 ,\n",
      "       -0.85402215, -0.81710106, -0.8332941 , -0.78251886, -0.85135204],\n",
      "      dtype=float32), array([-0.8778194 , -0.88760287, -0.85293365, -0.852819  , -0.8062778 ,\n",
      "       -0.85847974, -0.82208514, -0.83807534, -0.7880081 , -0.8558883 ],\n",
      "      dtype=float32), array([-0.88189113, -0.8914344 , -0.8572742 , -0.857217  , -0.8112739 ,\n",
      "       -0.8627643 , -0.8268891 , -0.8426786 , -0.79330987, -0.8602503 ],\n",
      "      dtype=float32), array([-0.8858008 , -0.8951088 , -0.8614504 , -0.8614487 , -0.81609595,\n",
      "       -0.8668848 , -0.831522  , -0.847113  , -0.7984333 , -0.86444676],\n",
      "      dtype=float32), array([-0.8895569 , -0.89863425, -0.86547023, -0.8655223 , -0.82075226,\n",
      "       -0.87084943, -0.8359919 , -0.85138667, -0.8033868 , -0.868486  ],\n",
      "      dtype=float32), array([-0.8931669 , -0.9020182 , -0.8693414 , -0.86944556, -0.8252508 ,\n",
      "       -0.8746656 , -0.8403067 , -0.8555074 , -0.8081782 , -0.87237555],\n",
      "      dtype=float32), array([-0.89663815, -0.9052676 , -0.8730709 , -0.87322575, -0.82959867,\n",
      "       -0.8783407 , -0.8444735 , -0.85948235, -0.81281483, -0.8761227 ],\n",
      "      dtype=float32)], 'frob': 0.46749803}\n"
     ]
    }
   ],
   "source": [
    "data = {'training_loss': training_loss, 'y_pred':y_pred_list,'frob':frob_losses}\n",
    "print(data)"
   ]
  },
  {
   "cell_type": "code",
   "execution_count": 58,
   "id": "6a58af46",
   "metadata": {},
   "outputs": [
    {
     "data": {
      "text/plain": [
       "Parameter containing:\n",
       "tensor([[-8.9981e-01,  4.9101e-03,  1.6778e-02, -4.7602e-03,  6.6882e-03,\n",
       "         -1.2760e-02,  1.4801e-02, -1.0612e-02, -2.2710e-03,  5.0953e-03],\n",
       "        [ 4.9101e-03, -9.0824e-01,  1.6974e-02,  4.4416e-03, -2.6494e-03,\n",
       "          1.0830e-02, -1.5967e-02, -1.7826e-02, -7.6710e-03,  3.2956e-02],\n",
       "        [ 1.6779e-02,  1.6974e-02, -8.7649e-01,  3.8512e-02, -3.7915e-02,\n",
       "          6.7502e-03, -1.8725e-02, -5.1223e-03,  2.6638e-02,  1.5650e-02],\n",
       "        [-4.7602e-03,  4.4415e-03,  3.8512e-02, -8.7669e-01, -3.8486e-02,\n",
       "          1.9143e-02, -2.1207e-02, -6.6075e-03, -5.5234e-04,  6.0885e-03],\n",
       "        [ 6.6882e-03, -2.6494e-03, -3.7915e-02, -3.8486e-02, -8.3360e-01,\n",
       "         -3.9907e-02, -1.2713e-02,  3.7399e-02, -2.0060e-02, -2.8978e-03],\n",
       "        [-1.2760e-02,  1.0830e-02,  6.7501e-03,  1.9143e-02, -3.9907e-02,\n",
       "         -8.8171e-01,  7.4385e-03, -3.2394e-02, -1.7576e-02,  2.2392e-02],\n",
       "        [ 1.4801e-02, -1.5967e-02, -1.8725e-02, -2.1207e-02, -1.2713e-02,\n",
       "          7.4383e-03, -8.4830e-01, -2.7714e-02,  4.0226e-02, -2.9592e-02],\n",
       "        [-1.0612e-02, -1.7826e-02, -5.1222e-03, -6.6075e-03,  3.7399e-02,\n",
       "         -3.2394e-02, -2.7714e-02, -8.6313e-01,  2.2419e-02, -1.1674e-02],\n",
       "        [-2.2709e-03, -7.6710e-03,  2.6638e-02, -5.5222e-04, -2.0060e-02,\n",
       "         -1.7576e-02,  4.0227e-02,  2.2419e-02, -8.1708e-01,  4.0937e-03],\n",
       "        [ 5.0953e-03,  3.2956e-02,  1.5649e-02,  6.0884e-03, -2.8977e-03,\n",
       "          2.2392e-02, -2.9592e-02, -1.1674e-02,  4.0937e-03, -8.7956e-01]],\n",
       "       requires_grad=True)"
      ]
     },
     "execution_count": 58,
     "metadata": {},
     "output_type": "execute_result"
    }
   ],
   "source": [
    "A_estimated"
   ]
  },
  {
   "cell_type": "code",
   "execution_count": 59,
   "id": "f92ad351",
   "metadata": {},
   "outputs": [
    {
     "data": {
      "image/png": "[encoded data removed]",
      "text/plain": [
       "<Figure size 640x480 with 1 Axes>"
      ]
     },
     "metadata": {},
     "output_type": "display_data"
    }
   ],
   "source": [
    "loss_data=data[\"training_loss\"]\n",
    "plt.plot(loss_data)\n",
    "plt.title('Evolution de la loss')\n",
    "plt.xlabel('Itération')\n",
    "plt.ylabel('Valeur de la loss')\n",
    "plt.show()"
   ]
  }
 ],
 "metadata": {
  "kernelspec": {
   "display_name": "Python 3 (ipykernel)",
   "language": "python",
   "name": "python3"
  },
  "language_info": {
   "codemirror_mode": {
    "name": "ipython",
    "version": 3
   },
   "file_extension": ".py",
   "mimetype": "text/x-python",
   "name": "python",
   "nbconvert_exporter": "python",
   "pygments_lexer": "ipython3",
   "version": "3.9.15"
  }
 },
 "nbformat": 4,
 "nbformat_minor": 5
}
