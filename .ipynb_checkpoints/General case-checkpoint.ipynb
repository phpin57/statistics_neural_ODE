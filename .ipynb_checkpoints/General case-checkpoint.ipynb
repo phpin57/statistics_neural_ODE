{
 "cells": [
  {
   "cell_type": "code",
   "execution_count": 103,
   "id": "7beb98d5",
   "metadata": {},
   "outputs": [
    {
     "name": "stdout",
     "output_type": "stream",
     "text": [
      "The commutator of A and B is:\n",
      "[[ 0 -6]\n",
      " [ 7  0]]\n"
     ]
    }
   ],
   "source": [
    "import numpy as np\n",
    "from scipy.linalg import expm,logm\n",
    "\n",
    "from scipy.integrate import solve_ivp\n",
    "from scipy.integrate import quad\n",
    "\n",
    "# Define matrices A and B\n",
    "A = np.array([[2, 0], [0, 3]])\n",
    "B = np.array([[5, 6], [7, 8]])\n",
    "\n",
    "# Calculate commutator of A and B\n",
    "commutator = np.dot(A, B) - np.dot(B, A)\n",
    "\n",
    "# Print commutator\n",
    "print(\"The commutator of A and B is:\")\n",
    "print(commutator)\n"
   ]
  },
  {
   "cell_type": "code",
   "execution_count": 2,
   "id": "ed8e3bfb",
   "metadata": {},
   "outputs": [],
   "source": [
    "x=np.array([[5],[-1]])\n",
    "x2=np.array([[2],[3]])"
   ]
  },
  {
   "cell_type": "code",
   "execution_count": 3,
   "id": "b8a5a942",
   "metadata": {},
   "outputs": [
    {
     "data": {
      "text/plain": [
       "array([[10],\n",
       "       [-3]])"
      ]
     },
     "execution_count": 3,
     "metadata": {},
     "output_type": "execute_result"
    }
   ],
   "source": [
    "y=np.dot(A,x)\n",
    "y"
   ]
  },
  {
   "cell_type": "markdown",
   "id": "ef6079ef",
   "metadata": {},
   "source": [
    "## Fonctions utiles"
   ]
  },
  {
   "cell_type": "code",
   "execution_count": 4,
   "id": "b24932e0",
   "metadata": {},
   "outputs": [],
   "source": [
    "import numpy as np\n",
    "\n",
    "def mult(*matrices):\n",
    "    if len(matrices) == 0:\n",
    "        raise ValueError(\"At least one matrix is required.\")\n",
    "        \n",
    "    # Check that all matrices have compatible dimensions\n",
    "    shape = matrices[0].shape\n",
    "    for i in range(1, len(matrices)):\n",
    "        if shape[1] != matrices[i].shape[0]:\n",
    "            raise ValueError(\"Matrices are not compatible for multiplication.\")\n",
    "\n",
    "    product = matrices[0]\n",
    "    for i in range(1, len(matrices)):\n",
    "        product = np.dot(product, matrices[i])\n",
    "\n",
    "    return product\n",
    "\n",
    "def elem(n,i,j):\n",
    "    E = np.zeros((n, n))\n",
    "    E[i, j] = 1\n",
    "    return E\n",
    "\n",
    "def comm(A,B):\n",
    "    return np.dot(A, B) - np.dot(B, A)\n",
    "\n",
    "def exp(A):\n",
    "    exp_A = np.eye(A.shape[0])\n",
    "    A_k=A\n",
    "    fact=1\n",
    "    num_terms = 20\n",
    "    for i in range(1, num_terms+1):\n",
    "        term = A_k/fact \n",
    "        exp_A += term\n",
    "        A_k=mult(A_k,A)\n",
    "        fact*=(i+1)\n",
    "    return exp_A\n",
    "\n",
    "\n",
    "def log(A):\n",
    "    log_A=np.eye(A.shape[0])\n",
    "    A_k=A\n",
    "    fact=-1"
   ]
  },
  {
   "cell_type": "code",
   "execution_count": 5,
   "id": "2badf02b",
   "metadata": {},
   "outputs": [
    {
     "data": {
      "text/plain": [
       "array([[0., 1., 0.],\n",
       "       [0., 0., 0.],\n",
       "       [0., 0., 0.]])"
      ]
     },
     "execution_count": 5,
     "metadata": {},
     "output_type": "execute_result"
    }
   ],
   "source": [
    "elem(3,0,1)"
   ]
  },
  {
   "cell_type": "code",
   "execution_count": 6,
   "id": "e788db7f",
   "metadata": {},
   "outputs": [
    {
     "data": {
      "text/plain": [
       "array([[38],\n",
       "       [81]])"
      ]
     },
     "execution_count": 6,
     "metadata": {},
     "output_type": "execute_result"
    }
   ],
   "source": [
    "mult(A,B,x)"
   ]
  },
  {
   "cell_type": "code",
   "execution_count": 7,
   "id": "0836c009",
   "metadata": {},
   "outputs": [],
   "source": [
    "def grad_exp(A,i,j):\n",
    "    n=len(A)\n",
    "    term1=expm(A)\n",
    "    term2=elem(n,i,j)\n",
    "    term3=0.5*comm(A,term2)\n",
    "    term4=comm(A,term3)/3\n",
    "    matrix_sum=term4+term2+term2\n",
    "    return mult(term1,matrix_sum)"
   ]
  },
  {
   "cell_type": "code",
   "execution_count": 8,
   "id": "0f93192a",
   "metadata": {},
   "outputs": [],
   "source": [
    "def grad_norm_i_j(A,x,y,i,j):\n",
    "    exp_A=expm(A)\n",
    "    exp_A_t=expm(A.T)\n",
    "    grad_exp_A=grad_exp(A,i,j)\n",
    "    grad_exp_A_t=grad_exp(A.T,i,j)\n",
    "    term_1=mult(x.T,grad_exp_A_t,exp_A,x)\n",
    "    term_2=mult(x.T,exp_A_t,grad_exp_A,x)\n",
    "    term_3=-mult(y.T,grad_exp_A,x)\n",
    "    term_4=-mult(x.T,grad_exp_A_t,y)\n",
    "    return float(term_1+term_2+term_3+term_4)"
   ]
  },
  {
   "cell_type": "code",
   "execution_count": 9,
   "id": "ba7f072f",
   "metadata": {},
   "outputs": [
    {
     "data": {
      "text/plain": [
       "-4890.321236443212"
      ]
     },
     "execution_count": 9,
     "metadata": {},
     "output_type": "execute_result"
    }
   ],
   "source": [
    "grad_norm_i_j(A,x,y,1,0)"
   ]
  },
  {
   "cell_type": "code",
   "execution_count": 10,
   "id": "9bb2382c",
   "metadata": {},
   "outputs": [],
   "source": [
    "def grad_norm_ij(A,x_list,y_list,i,j):\n",
    "    N=len(x_list)\n",
    "    return 1/N*sum([grad_norm_i_j(A,x,y,i,j) for x, y in zip(x_list, y_list)])"
   ]
  },
  {
   "cell_type": "code",
   "execution_count": 11,
   "id": "9b107f37",
   "metadata": {},
   "outputs": [],
   "source": [
    "def grad_matrix(A,x_list,y_list):\n",
    "    dA_dt = np.zeros_like(A.copy())\n",
    "    for i in range(A.shape[0]):\n",
    "        for j in range(A.shape[1]):\n",
    "            dA_dt[i][j] = -grad_norm_ij(A, x_list,y_list, i, j)   \n",
    "    return dA_dt"
   ]
  },
  {
   "cell_type": "code",
   "execution_count": 12,
   "id": "55284ae8",
   "metadata": {},
   "outputs": [
    {
     "data": {
      "text/plain": [
       "array([[0, 1],\n",
       "       [1, 2]])"
      ]
     },
     "execution_count": 12,
     "metadata": {},
     "output_type": "execute_result"
    }
   ],
   "source": [
    "np.array([[0,1],[1,2]])"
   ]
  },
  {
   "cell_type": "markdown",
   "id": "65acc6ba",
   "metadata": {},
   "source": [
    "## Calculating A(1)"
   ]
  },
  {
   "cell_type": "code",
   "execution_count": 13,
   "id": "0ead0cef",
   "metadata": {},
   "outputs": [],
   "source": [
    "def grad_norm_total(t, A_flat, x_list,y_list):\n",
    "    n=2\n",
    "    A_flat=np.array(A_flat.copy())\n",
    "    A = A_flat.reshape((n, n))\n",
    "    \n",
    "    gradient = grad_matrix(A,x_list,y_list)\n",
    "    return gradient.flatten()\n",
    "\n",
    "def evolve_matrix(A_0, x_list,y_list, t_span, t_target):\n",
    "    n = 2\n",
    "    A_0_flat = A_0.flatten()\n",
    "    \n",
    "    t_eval = np.array([t_target])\n",
    "    \n",
    "    # Solve the differential equation using solve_ivp\n",
    "    solution = solve_ivp(grad_norm_total, t_span, A_0_flat, t_eval=t_eval, args=(x_list,y_list))\n",
    "    \n",
    "    A_t = solution.y.reshape((n, n))\n",
    "    \n",
    "    return A_t"
   ]
  },
  {
   "cell_type": "code",
   "execution_count": 14,
   "id": "ee08eb80",
   "metadata": {},
   "outputs": [
    {
     "data": {
      "text/plain": [
       "array([[[10],\n",
       "        [ 4]],\n",
       "\n",
       "       [[-3],\n",
       "        [ 9]]])"
      ]
     },
     "execution_count": 14,
     "metadata": {},
     "output_type": "execute_result"
    }
   ],
   "source": [
    "np.dot(A,[x,x2])"
   ]
  },
  {
   "cell_type": "code",
   "execution_count": 18,
   "id": "744b45da",
   "metadata": {},
   "outputs": [
    {
     "name": "stdout",
     "output_type": "stream",
     "text": [
      "Matrix at time t=2\n",
      "[[0.09983672 0.65064191]\n",
      " [0.32388063 0.51133594]]\n"
     ]
    }
   ],
   "source": [
    "# Define initial matrix and list of vectors\n",
    "A = np.array([[2, 0], [0, 3]])\n",
    "A_0=np.ones((2,2))\n",
    "x_list = [x,x2]\n",
    "y_list=np.dot(A,x_list)\n",
    "\n",
    "# Evolve the matrix to time t=0.5\n",
    "t_span = (0, 1)\n",
    "t_target = 1\n",
    "A_t = evolve_matrix(A_0, x_list,y_list, t_span, t_target)\n",
    "\n",
    "# Print the resulting matrix\n",
    "print(\"Matrix at time t=\"+str(t_target))\n",
    "print(A_t)"
   ]
  },
  {
   "cell_type": "code",
   "execution_count": 16,
   "id": "cff0b571",
   "metadata": {},
   "outputs": [
    {
     "data": {
      "text/plain": [
       "array([[1.24161311, 0.92091404],\n",
       "       [0.458417  , 1.82405225]])"
      ]
     },
     "execution_count": 16,
     "metadata": {},
     "output_type": "execute_result"
    }
   ],
   "source": [
    "expm(A_t)"
   ]
  },
  {
   "cell_type": "code",
   "execution_count": 17,
   "id": "11d07b6c",
   "metadata": {},
   "outputs": [
    {
     "name": "stdout",
     "output_type": "stream",
     "text": [
      "Matrix at time t=0.5:\n",
      "[[0.09984018 0.650636  ]\n",
      " [0.3238767  0.5113399 ]]\n"
     ]
    }
   ],
   "source": [
    "print(\"Matrix at time t=0.5:\")\n",
    "print(A_t)"
   ]
  },
  {
   "cell_type": "code",
   "execution_count": 20,
   "id": "8996c958",
   "metadata": {},
   "outputs": [
    {
     "data": {
      "text/plain": [
       "2"
      ]
     },
     "execution_count": 20,
     "metadata": {},
     "output_type": "execute_result"
    }
   ],
   "source": [
    "A_t.shape[0]"
   ]
  },
  {
   "cell_type": "markdown",
   "id": "5ff153e4",
   "metadata": {},
   "source": [
    "## Nouvelle approche"
   ]
  },
  {
   "cell_type": "code",
   "execution_count": 24,
   "id": "4a5860e5",
   "metadata": {},
   "outputs": [],
   "source": [
    "def grad_W_kp(A,k,p):\n",
    "    n = A.shape[0]\n",
    "    result = np.zeros((n, n))\n",
    "    At=A.T\n",
    "    V=elem(n,k,p)\n",
    "    for i in range(n):\n",
    "        for j in range(n):\n",
    "            def integrand(t, i, j, A, V):\n",
    "                expAt = expm(A*t)\n",
    "                expA1t = expm(A*(1-t))\n",
    "                return expA1t[i,:] @ V @ expAt[:,j]\n",
    "            \n",
    "            result[i,j], _ = quad(integrand, 0, 1, args=(i, j, At, V))\n",
    "    return result"
   ]
  },
  {
   "cell_type": "code",
   "execution_count": 27,
   "id": "b9775985",
   "metadata": {},
   "outputs": [
    {
     "data": {
      "text/plain": [
       "array([[ 0.        , 12.69648082],\n",
       "       [ 0.        ,  0.        ]])"
      ]
     },
     "execution_count": 27,
     "metadata": {},
     "output_type": "execute_result"
    }
   ],
   "source": [
    "grad_W_kp(A,0,1)"
   ]
  },
  {
   "cell_type": "code",
   "execution_count": 41,
   "id": "6dc2d22d",
   "metadata": {},
   "outputs": [],
   "source": [
    "def grad_norm(A,x,y):\n",
    "    n=A.shape[0]\n",
    "    W=expm(A)\n",
    "    grad=0\n",
    "    for k in range(n):\n",
    "        for p in range(n):\n",
    "            grad_w=grad_W_kp(A,k,p)\n",
    "            grad+=2*x[p]*(W[k][p]*x[p]-y[k])*grad_w\n",
    "    return grad"
   ]
  },
  {
   "cell_type": "code",
   "execution_count": 38,
   "id": "c5e0e957",
   "metadata": {},
   "outputs": [
    {
     "data": {
      "text/plain": [
       "0.0"
      ]
     },
     "execution_count": 38,
     "metadata": {},
     "output_type": "execute_result"
    }
   ],
   "source": [
    "expm(A)[0][1]"
   ]
  },
  {
   "cell_type": "code",
   "execution_count": 42,
   "id": "0453b084",
   "metadata": {},
   "outputs": [
    {
     "data": {
      "text/plain": [
       "array([[1991.00189176,  253.92961649],\n",
       "       [ 380.89442473,  686.34436545]])"
      ]
     },
     "execution_count": 42,
     "metadata": {},
     "output_type": "execute_result"
    }
   ],
   "source": [
    "grad_norm(A,x,y)"
   ]
  },
  {
   "cell_type": "code",
   "execution_count": 44,
   "id": "36951709",
   "metadata": {},
   "outputs": [
    {
     "data": {
      "text/plain": [
       "array([[1., 0.],\n",
       "       [0., 1.]])"
      ]
     },
     "execution_count": 44,
     "metadata": {},
     "output_type": "execute_result"
    }
   ],
   "source": [
    "np.eye(2)"
   ]
  },
  {
   "cell_type": "code",
   "execution_count": 49,
   "id": "2a520409",
   "metadata": {},
   "outputs": [],
   "source": [
    "A0 = np.eye(2)  # initial condition\n",
    "t0 = 0    # initial time\n",
    "dt = 0.01  # time step\n",
    "t_max = 0.5  # maximum time to integrate to\n",
    "\n",
    "A = A0.copy()  # make a copy of A0 to store the result\n",
    "\n",
    "while t0 < t_max:\n",
    "    grad = grad_norm(A, x, y)\n",
    "    A -= dt*grad\n",
    "    t0 += dt\n",
    "print(A)"
   ]
  },
  {
   "cell_type": "code",
   "execution_count": 50,
   "id": "f8871f45",
   "metadata": {},
   "outputs": [
    {
     "data": {
      "text/plain": [
       "array([[1.62475819, 0.52196457],\n",
       "       [0.35194285, 0.14410118]])"
      ]
     },
     "execution_count": 50,
     "metadata": {},
     "output_type": "execute_result"
    }
   ],
   "source": [
    "expm(A)"
   ]
  },
  {
   "cell_type": "code",
   "execution_count": 81,
   "id": "719bd3b0",
   "metadata": {},
   "outputs": [
    {
     "name": "stdout",
     "output_type": "stream",
     "text": [
      "[[3.91771379e-02 2.87314981e-01 2.66131811e-01 9.75075671e-01\n",
      "  2.37541270e-01]\n",
      " [9.43811311e-01 1.81893365e-01 3.54803379e-01 8.66295340e-01\n",
      "  2.11141100e-01]\n",
      " [5.35497021e-02 7.52305135e-01 9.68115249e-01 1.55433622e-01\n",
      "  8.66910547e-01]\n",
      " [3.08807239e-01 9.16567837e-01 6.69586301e-04 3.34945110e-01\n",
      "  7.18402228e-01]\n",
      " [3.32778275e-02 8.94889210e-01 3.62568784e-01 1.90763757e-01\n",
      "  7.64868923e-01]]\n",
      "[[0.00151228 0.00067209 0.00177434 0.00606737 0.00584891]\n",
      " [0.00221547 0.00081864 0.00334999 0.00858303 0.00808317]\n",
      " [0.00194625 0.00118133 0.00230409 0.01033485 0.00987271]\n",
      " [0.00118237 0.00039292 0.002985   0.00806011 0.00848298]\n",
      " [0.00126419 0.0006213  0.00231803 0.00823976 0.00830323]]\n"
     ]
    }
   ],
   "source": [
    "import numpy as np\n",
    "\n",
    "# Generate some noisy data\n",
    "A = np.random.rand(5, 5)\n",
    "print(A)\n",
    "x_list = [np.random.rand(5, 1) for i in range(10000)]\n",
    "y_list = A @ x \n",
    "\n",
    "term1=sum([np.dot(y,x.T) for (x,y) in zip(x_list,y_list)])\n",
    "term2=np.linalg.inv(sum([np.dot(x,x.T) for x in x_list]))\n",
    "\n",
    "A_est=np.dot(term1,term2)\n",
    "print(A_est)"
   ]
  },
  {
   "cell_type": "code",
   "execution_count": 105,
   "id": "1d785c32",
   "metadata": {},
   "outputs": [
    {
     "name": "stdout",
     "output_type": "stream",
     "text": [
      "Original matrix A:\n",
      "[[1.56949326 1.44383457 1.39227638 1.3428826  1.65751124]\n",
      " [0.58998161 3.10162728 1.13305075 1.48367708 1.94461666]\n",
      " [0.74517614 1.65252759 2.2140985  2.11786397 1.61903219]\n",
      " [2.04718972 3.30685115 2.22491333 4.51764629 3.02179418]\n",
      " [1.01564159 2.55941923 1.31186685 2.57459721 3.00349158]]\n",
      "Estimated matrix A_est:\n",
      "[[1.56949326 1.44383457 1.39227638 1.3428826  1.65751124]\n",
      " [0.58998161 3.10162728 1.13305075 1.48367708 1.94461666]\n",
      " [0.74517614 1.65252759 2.2140985  2.11786397 1.61903219]\n",
      " [2.04718972 3.30685115 2.22491333 4.51764629 3.02179418]\n",
      " [1.01564159 2.55941923 1.31186685 2.57459721 3.00349158]]\n"
     ]
    }
   ],
   "source": [
    "import numpy as np\n",
    "\n",
    "# Generate data\n",
    "n = 10  # number of data points\n",
    "d = 5  # dimension of x and y\n",
    "A0 = np.random.rand(d, d)\n",
    "A=expm(A0.copy())\n",
    "x = np.random.rand(n, d)\n",
    "y = np.dot(x, A.T)\n",
    "\n",
    "# Estimate A\n",
    "X = np.hstack((x, np.ones((n, 1))))  # augment X with a column of ones for the intercept\n",
    "A_est, _, _, _ = np.linalg.lstsq(X, y, rcond=None)\n",
    "A_est = A_est[:-1, :]  # remove the last row (corresponding to the intercept)\n",
    "\n",
    "# Print the original and estimated matrices\n",
    "print(\"Original matrix A:\")\n",
    "print(A)\n",
    "print(\"Estimated matrix A_est:\")\n",
    "print(A_est.T)"
   ]
  },
  {
   "cell_type": "code",
   "execution_count": 106,
   "id": "5b2b8423",
   "metadata": {},
   "outputs": [
    {
     "name": "stdout",
     "output_type": "stream",
     "text": [
      "Original matrix A:\n",
      "[[0.12401276 0.2666253  0.66931183 0.07988674 0.61478305]\n",
      " [0.07672272 0.67273915 0.33377838 0.14814857 0.70640233]\n",
      " [0.02771108 0.26825821 0.35309527 0.65225814 0.39419931]\n",
      " [0.812989   0.72111458 0.45265439 0.97037084 0.57763803]\n",
      " [0.1224104  0.73489164 0.18646502 0.82825933 0.35366912]]\n",
      "Estimated matrix A_est:\n",
      "[[0.12401276 0.2666253  0.66931183 0.07988674 0.61478305]\n",
      " [0.07672272 0.67273915 0.33377838 0.14814857 0.70640233]\n",
      " [0.02771108 0.26825821 0.35309527 0.65225814 0.39419931]\n",
      " [0.812989   0.72111458 0.45265439 0.97037084 0.57763803]\n",
      " [0.1224104  0.73489164 0.18646502 0.82825933 0.35366912]]\n"
     ]
    }
   ],
   "source": [
    "print(\"Original matrix A:\")\n",
    "print(A0)\n",
    "print(\"Estimated matrix A_est:\")\n",
    "print(logm(A_est.T))"
   ]
  },
  {
   "cell_type": "code",
   "execution_count": 74,
   "id": "004b34ad",
   "metadata": {},
   "outputs": [
    {
     "data": {
      "text/plain": [
       "array([[[0.75375832],\n",
       "        [0.26810454],\n",
       "        [0.42952112],\n",
       "        [1.31901245],\n",
       "        [0.58996115]],\n",
       "\n",
       "       [[0.92029545],\n",
       "        [0.38019473],\n",
       "        [0.56636916],\n",
       "        [1.62905632],\n",
       "        [1.13545806]],\n",
       "\n",
       "       [[1.6848453 ],\n",
       "        [1.01240581],\n",
       "        [0.97998871],\n",
       "        [1.45282654],\n",
       "        [1.28122186]],\n",
       "\n",
       "       [[1.39025112],\n",
       "        [0.52091128],\n",
       "        [0.71732578],\n",
       "        [1.97732859],\n",
       "        [1.15563354]],\n",
       "\n",
       "       [[1.71512799],\n",
       "        [0.803281  ],\n",
       "        [0.85958091],\n",
       "        [1.59022358],\n",
       "        [1.10402646]]])"
      ]
     },
     "execution_count": 74,
     "metadata": {},
     "output_type": "execute_result"
    }
   ],
   "source": [
    "y_list=np.dot(A,x_list)\n",
    "y_list"
   ]
  },
  {
   "cell_type": "code",
   "execution_count": 78,
   "id": "ed6a4c0c",
   "metadata": {},
   "outputs": [
    {
     "data": {
      "text/plain": [
       "array([[ 51.94157412, -40.25110447, -63.64526369,  34.67397926,\n",
       "         36.26133545],\n",
       "       [-40.25110447,  36.86638902,  52.75444309, -32.54413305,\n",
       "        -30.73405007],\n",
       "       [-63.64526369,  52.75444309,  83.57420034, -48.63536997,\n",
       "        -47.64903189],\n",
       "       [ 34.67397926, -32.54413305, -48.63536997,  31.80442534,\n",
       "         27.66502724],\n",
       "       [ 36.26133545, -30.73405007, -47.64903189,  27.66502724,\n",
       "         28.00874501]])"
      ]
     },
     "execution_count": 78,
     "metadata": {},
     "output_type": "execute_result"
    }
   ],
   "source": [
    "np.linalg.inv(sum([np.dot(x,x.T) for x in x_list]))"
   ]
  },
  {
   "cell_type": "code",
   "execution_count": 68,
   "id": "4c58cb27",
   "metadata": {},
   "outputs": [
    {
     "data": {
      "text/plain": [
       "array([[[0.27750522],\n",
       "        [0.28563166],\n",
       "        [0.30099303],\n",
       "        [0.48742153],\n",
       "        [0.41423892]],\n",
       "\n",
       "       [[0.79574625],\n",
       "        [0.97930198],\n",
       "        [1.07431012],\n",
       "        [1.38061654],\n",
       "        [1.24105594]],\n",
       "\n",
       "       [[1.04207073],\n",
       "        [1.06276523],\n",
       "        [1.67728438],\n",
       "        [1.60488074],\n",
       "        [1.67605013]],\n",
       "\n",
       "       [[0.34364134],\n",
       "        [0.54138324],\n",
       "        [0.73841344],\n",
       "        [0.61460121],\n",
       "        [0.62998633]],\n",
       "\n",
       "       [[0.69486995],\n",
       "        [0.6836659 ],\n",
       "        [1.52798652],\n",
       "        [1.07978987],\n",
       "        [1.39276923]],\n",
       "\n",
       "       [[0.41299999],\n",
       "        [0.69414139],\n",
       "        [0.90674194],\n",
       "        [0.55744358],\n",
       "        [0.55948162]],\n",
       "\n",
       "       [[0.94079216],\n",
       "        [1.01113912],\n",
       "        [1.21774696],\n",
       "        [1.5612865 ],\n",
       "        [1.47641556]],\n",
       "\n",
       "       [[0.71853466],\n",
       "        [0.6307787 ],\n",
       "        [1.34888327],\n",
       "        [1.22442592],\n",
       "        [1.45264368]],\n",
       "\n",
       "       [[1.098966  ],\n",
       "        [1.16221403],\n",
       "        [1.72522229],\n",
       "        [1.70446433],\n",
       "        [1.75376103]],\n",
       "\n",
       "       [[1.11708985],\n",
       "        [1.25315601],\n",
       "        [1.21902961],\n",
       "        [1.72207419],\n",
       "        [1.46357415]],\n",
       "\n",
       "       [[0.87301684],\n",
       "        [0.66977497],\n",
       "        [0.88477842],\n",
       "        [1.20554878],\n",
       "        [1.12590285]],\n",
       "\n",
       "       [[0.83482752],\n",
       "        [1.25725617],\n",
       "        [1.91129972],\n",
       "        [1.50610386],\n",
       "        [1.71657995]],\n",
       "\n",
       "       [[0.68548219],\n",
       "        [0.68554346],\n",
       "        [1.32773579],\n",
       "        [1.18247565],\n",
       "        [1.35198109]],\n",
       "\n",
       "       [[0.80581003],\n",
       "        [0.7692797 ],\n",
       "        [1.32506883],\n",
       "        [1.29607037],\n",
       "        [1.45787715]],\n",
       "\n",
       "       [[1.03154656],\n",
       "        [1.05083915],\n",
       "        [1.51928141],\n",
       "        [1.507965  ],\n",
       "        [1.59971563]],\n",
       "\n",
       "       [[0.46383785],\n",
       "        [0.69583593],\n",
       "        [1.28939693],\n",
       "        [0.84307945],\n",
       "        [1.05367715]],\n",
       "\n",
       "       [[0.7084243 ],\n",
       "        [0.91556044],\n",
       "        [1.56789814],\n",
       "        [1.19914252],\n",
       "        [1.4372432 ]],\n",
       "\n",
       "       [[0.70726118],\n",
       "        [1.00911369],\n",
       "        [1.63767874],\n",
       "        [1.0284669 ],\n",
       "        [1.27008109]],\n",
       "\n",
       "       [[0.98976862],\n",
       "        [1.29806259],\n",
       "        [1.72668699],\n",
       "        [1.85805825],\n",
       "        [1.86822946]],\n",
       "\n",
       "       [[0.37556864],\n",
       "        [0.51524372],\n",
       "        [1.18035339],\n",
       "        [0.81658467],\n",
       "        [1.11523592]],\n",
       "\n",
       "       [[0.79620434],\n",
       "        [0.69757172],\n",
       "        [0.75625474],\n",
       "        [1.18629275],\n",
       "        [0.99442691]],\n",
       "\n",
       "       [[1.12388989],\n",
       "        [1.24707277],\n",
       "        [1.51767696],\n",
       "        [1.72757302],\n",
       "        [1.6679211 ]],\n",
       "\n",
       "       [[0.43435641],\n",
       "        [0.75328442],\n",
       "        [1.04459754],\n",
       "        [0.83109819],\n",
       "        [0.93552642]],\n",
       "\n",
       "       [[0.92429994],\n",
       "        [0.89274115],\n",
       "        [1.72193458],\n",
       "        [1.5744904 ],\n",
       "        [1.84212802]],\n",
       "\n",
       "       [[0.69082342],\n",
       "        [0.89902035],\n",
       "        [0.70917862],\n",
       "        [1.09022777],\n",
       "        [0.81261514]],\n",
       "\n",
       "       [[1.06771009],\n",
       "        [1.01351766],\n",
       "        [1.06505096],\n",
       "        [1.47851668],\n",
       "        [1.31586632]],\n",
       "\n",
       "       [[0.45645691],\n",
       "        [0.6824765 ],\n",
       "        [0.60987997],\n",
       "        [0.7110458 ],\n",
       "        [0.61875694]],\n",
       "\n",
       "       [[1.18711726],\n",
       "        [1.15061791],\n",
       "        [1.97771351],\n",
       "        [1.78602923],\n",
       "        [2.01680185]],\n",
       "\n",
       "       [[0.94373343],\n",
       "        [0.59491538],\n",
       "        [1.38401588],\n",
       "        [1.23013369],\n",
       "        [1.47444308]],\n",
       "\n",
       "       [[0.81389558],\n",
       "        [0.82990738],\n",
       "        [1.44175928],\n",
       "        [1.37080284],\n",
       "        [1.51401229]],\n",
       "\n",
       "       [[0.59600766],\n",
       "        [0.71433809],\n",
       "        [0.85656033],\n",
       "        [1.01386555],\n",
       "        [0.95837704]],\n",
       "\n",
       "       [[0.45534783],\n",
       "        [0.49812234],\n",
       "        [0.54977223],\n",
       "        [0.72326821],\n",
       "        [0.65370587]],\n",
       "\n",
       "       [[0.8871267 ],\n",
       "        [0.59225248],\n",
       "        [1.73200702],\n",
       "        [1.29625388],\n",
       "        [1.73215285]],\n",
       "\n",
       "       [[0.79646207],\n",
       "        [0.88380153],\n",
       "        [0.99746503],\n",
       "        [1.08674324],\n",
       "        [0.99344406]],\n",
       "\n",
       "       [[0.93284852],\n",
       "        [1.36039834],\n",
       "        [1.19587306],\n",
       "        [1.52375512],\n",
       "        [1.22660594]],\n",
       "\n",
       "       [[0.88936298],\n",
       "        [0.42566395],\n",
       "        [1.2537812 ],\n",
       "        [1.22488542],\n",
       "        [1.49257711]],\n",
       "\n",
       "       [[0.50462833],\n",
       "        [0.73851316],\n",
       "        [1.0033322 ],\n",
       "        [0.93424238],\n",
       "        [0.9297029 ]],\n",
       "\n",
       "       [[0.50540397],\n",
       "        [0.72187628],\n",
       "        [1.3599093 ],\n",
       "        [0.81249986],\n",
       "        [1.03951375]],\n",
       "\n",
       "       [[1.01298905],\n",
       "        [1.21650993],\n",
       "        [1.97206424],\n",
       "        [1.63657092],\n",
       "        [1.84752732]],\n",
       "\n",
       "       [[0.8406656 ],\n",
       "        [0.82834917],\n",
       "        [1.43893608],\n",
       "        [1.15697081],\n",
       "        [1.3573032 ]],\n",
       "\n",
       "       [[0.84148784],\n",
       "        [1.45027563],\n",
       "        [1.18946311],\n",
       "        [1.34998629],\n",
       "        [1.002762  ]],\n",
       "\n",
       "       [[1.16644169],\n",
       "        [1.48963987],\n",
       "        [1.59395915],\n",
       "        [1.7298157 ],\n",
       "        [1.53590253]],\n",
       "\n",
       "       [[1.03085754],\n",
       "        [1.31408013],\n",
       "        [1.73881189],\n",
       "        [1.50615627],\n",
       "        [1.55403397]],\n",
       "\n",
       "       [[0.41959662],\n",
       "        [0.69976494],\n",
       "        [1.36385068],\n",
       "        [0.90336873],\n",
       "        [1.17438279]],\n",
       "\n",
       "       [[0.8044963 ],\n",
       "        [0.57566125],\n",
       "        [0.68141879],\n",
       "        [1.16523838],\n",
       "        [1.03034733]],\n",
       "\n",
       "       [[0.62706049],\n",
       "        [0.62348886],\n",
       "        [1.10463161],\n",
       "        [0.99206232],\n",
       "        [1.18351524]],\n",
       "\n",
       "       [[0.31298062],\n",
       "        [0.55724664],\n",
       "        [0.63575247],\n",
       "        [0.70007007],\n",
       "        [0.6557766 ]],\n",
       "\n",
       "       [[0.95634285],\n",
       "        [0.75134462],\n",
       "        [1.27327842],\n",
       "        [1.18418622],\n",
       "        [1.29280133]],\n",
       "\n",
       "       [[1.28162336],\n",
       "        [1.5440645 ],\n",
       "        [1.7773177 ],\n",
       "        [1.97893741],\n",
       "        [1.83426028]],\n",
       "\n",
       "       [[0.72055548],\n",
       "        [1.26290253],\n",
       "        [1.18116728],\n",
       "        [1.2147774 ],\n",
       "        [0.98796184]],\n",
       "\n",
       "       [[0.78813352],\n",
       "        [0.72052883],\n",
       "        [0.93410623],\n",
       "        [1.2435757 ],\n",
       "        [1.15269748]],\n",
       "\n",
       "       [[0.7235872 ],\n",
       "        [0.72896877],\n",
       "        [0.47842129],\n",
       "        [1.12685525],\n",
       "        [0.77760244]],\n",
       "\n",
       "       [[0.9401294 ],\n",
       "        [1.2250511 ],\n",
       "        [1.69523025],\n",
       "        [1.56432204],\n",
       "        [1.60021565]],\n",
       "\n",
       "       [[0.96781229],\n",
       "        [0.87699637],\n",
       "        [0.8718018 ],\n",
       "        [1.46022825],\n",
       "        [1.24044596]],\n",
       "\n",
       "       [[0.73864913],\n",
       "        [1.05077792],\n",
       "        [1.76083234],\n",
       "        [1.14747849],\n",
       "        [1.43441352]],\n",
       "\n",
       "       [[0.45988838],\n",
       "        [0.42265615],\n",
       "        [1.3233382 ],\n",
       "        [0.89493099],\n",
       "        [1.29346098]],\n",
       "\n",
       "       [[0.96098032],\n",
       "        [1.15157398],\n",
       "        [1.45252614],\n",
       "        [1.31559911],\n",
       "        [1.29809338]],\n",
       "\n",
       "       [[1.22595707],\n",
       "        [1.50557635],\n",
       "        [1.38207981],\n",
       "        [1.80543507],\n",
       "        [1.44671078]],\n",
       "\n",
       "       [[0.69680857],\n",
       "        [1.02741418],\n",
       "        [1.4549144 ],\n",
       "        [1.12877555],\n",
       "        [1.20341128]],\n",
       "\n",
       "       [[0.93007539],\n",
       "        [0.95384293],\n",
       "        [1.54103086],\n",
       "        [1.59793392],\n",
       "        [1.72442175]],\n",
       "\n",
       "       [[0.32596287],\n",
       "        [0.44865461],\n",
       "        [0.67892081],\n",
       "        [0.62700069],\n",
       "        [0.6934861 ]],\n",
       "\n",
       "       [[0.70697755],\n",
       "        [0.95190731],\n",
       "        [1.15410145],\n",
       "        [1.15392104],\n",
       "        [1.09713295]],\n",
       "\n",
       "       [[0.45482534],\n",
       "        [0.56101643],\n",
       "        [1.18165343],\n",
       "        [0.80337107],\n",
       "        [1.04289072]],\n",
       "\n",
       "       [[0.84679541],\n",
       "        [0.46418821],\n",
       "        [0.82484586],\n",
       "        [1.03089506],\n",
       "        [1.02432077]],\n",
       "\n",
       "       [[0.85816723],\n",
       "        [0.71513801],\n",
       "        [1.45426557],\n",
       "        [1.22831917],\n",
       "        [1.45520322]],\n",
       "\n",
       "       [[0.64313651],\n",
       "        [0.40345451],\n",
       "        [0.47695727],\n",
       "        [0.84095124],\n",
       "        [0.72096556]],\n",
       "\n",
       "       [[0.71642071],\n",
       "        [1.19892536],\n",
       "        [1.72023158],\n",
       "        [1.26559573],\n",
       "        [1.38103061]],\n",
       "\n",
       "       [[0.80636724],\n",
       "        [1.32388418],\n",
       "        [1.68863329],\n",
       "        [1.27590727],\n",
       "        [1.31656208]],\n",
       "\n",
       "       [[1.06717832],\n",
       "        [0.84199512],\n",
       "        [1.5986577 ],\n",
       "        [1.50603675],\n",
       "        [1.68807495]],\n",
       "\n",
       "       [[0.33700143],\n",
       "        [0.74589867],\n",
       "        [0.87303006],\n",
       "        [0.77784844],\n",
       "        [0.74903471]],\n",
       "\n",
       "       [[1.11156596],\n",
       "        [1.15069149],\n",
       "        [1.70484486],\n",
       "        [1.82871819],\n",
       "        [1.85360559]],\n",
       "\n",
       "       [[0.86298294],\n",
       "        [0.87151785],\n",
       "        [1.48581772],\n",
       "        [1.28839713],\n",
       "        [1.47560325]],\n",
       "\n",
       "       [[0.9665646 ],\n",
       "        [1.1363154 ],\n",
       "        [1.1799913 ],\n",
       "        [1.59533109],\n",
       "        [1.38839395]],\n",
       "\n",
       "       [[1.04076731],\n",
       "        [0.77455623],\n",
       "        [1.09273721],\n",
       "        [1.34114636],\n",
       "        [1.27455518]],\n",
       "\n",
       "       [[1.04900036],\n",
       "        [1.40305274],\n",
       "        [1.80913567],\n",
       "        [1.77898361],\n",
       "        [1.73772397]],\n",
       "\n",
       "       [[0.56411333],\n",
       "        [0.94686918],\n",
       "        [1.3409499 ],\n",
       "        [1.11102134],\n",
       "        [1.21524019]],\n",
       "\n",
       "       [[0.80118842],\n",
       "        [0.63901569],\n",
       "        [1.23029252],\n",
       "        [1.26898093],\n",
       "        [1.38288045]],\n",
       "\n",
       "       [[0.3785771 ],\n",
       "        [0.23213591],\n",
       "        [0.82761292],\n",
       "        [0.6535927 ],\n",
       "        [0.91565371]],\n",
       "\n",
       "       [[0.98638708],\n",
       "        [1.41395254],\n",
       "        [1.66833496],\n",
       "        [1.68844958],\n",
       "        [1.62508403]],\n",
       "\n",
       "       [[0.46388457],\n",
       "        [0.58171365],\n",
       "        [1.37703182],\n",
       "        [0.86509501],\n",
       "        [1.22396768]],\n",
       "\n",
       "       [[0.7413026 ],\n",
       "        [1.05243046],\n",
       "        [1.79149846],\n",
       "        [1.17157851],\n",
       "        [1.46459442]],\n",
       "\n",
       "       [[0.99120777],\n",
       "        [1.18193936],\n",
       "        [1.752594  ],\n",
       "        [1.48204337],\n",
       "        [1.63114322]],\n",
       "\n",
       "       [[0.39323319],\n",
       "        [0.69006689],\n",
       "        [1.10554139],\n",
       "        [0.88378316],\n",
       "        [1.00835501]],\n",
       "\n",
       "       [[0.55912529],\n",
       "        [0.9221113 ],\n",
       "        [1.1580169 ],\n",
       "        [0.93353507],\n",
       "        [0.95317582]],\n",
       "\n",
       "       [[0.9515519 ],\n",
       "        [0.53611467],\n",
       "        [0.9980473 ],\n",
       "        [1.11719401],\n",
       "        [1.15233967]],\n",
       "\n",
       "       [[1.26088028],\n",
       "        [1.54573735],\n",
       "        [1.96174441],\n",
       "        [1.96813902],\n",
       "        [1.93207377]],\n",
       "\n",
       "       [[1.1567606 ],\n",
       "        [1.38208006],\n",
       "        [1.91511615],\n",
       "        [1.96109232],\n",
       "        [2.0132893 ]],\n",
       "\n",
       "       [[0.23122679],\n",
       "        [0.35284802],\n",
       "        [0.78511698],\n",
       "        [0.53957136],\n",
       "        [0.72555754]],\n",
       "\n",
       "       [[0.94966853],\n",
       "        [0.73773044],\n",
       "        [1.48106965],\n",
       "        [1.42829206],\n",
       "        [1.68930838]],\n",
       "\n",
       "       [[0.86720556],\n",
       "        [1.56559515],\n",
       "        [1.4962643 ],\n",
       "        [1.49772919],\n",
       "        [1.26941258]],\n",
       "\n",
       "       [[0.93257331],\n",
       "        [0.96131281],\n",
       "        [1.23486194],\n",
       "        [1.39301969],\n",
       "        [1.32520713]],\n",
       "\n",
       "       [[0.67203041],\n",
       "        [1.08917068],\n",
       "        [1.49231817],\n",
       "        [1.21485764],\n",
       "        [1.2799596 ]],\n",
       "\n",
       "       [[0.45146425],\n",
       "        [0.70114222],\n",
       "        [1.53712572],\n",
       "        [0.8307289 ],\n",
       "        [1.18324258]],\n",
       "\n",
       "       [[1.07549976],\n",
       "        [1.11312376],\n",
       "        [1.08004512],\n",
       "        [1.6158045 ],\n",
       "        [1.34571006]],\n",
       "\n",
       "       [[0.63559407],\n",
       "        [0.29770095],\n",
       "        [0.83662228],\n",
       "        [0.97258618],\n",
       "        [1.15544551]],\n",
       "\n",
       "       [[0.89032965],\n",
       "        [0.81393013],\n",
       "        [0.92586532],\n",
       "        [1.40753702],\n",
       "        [1.27526552]],\n",
       "\n",
       "       [[0.71097481],\n",
       "        [1.00283788],\n",
       "        [1.48917552],\n",
       "        [1.42054896],\n",
       "        [1.50801829]],\n",
       "\n",
       "       [[1.02535175],\n",
       "        [1.45230304],\n",
       "        [1.22633374],\n",
       "        [1.56288809],\n",
       "        [1.18237153]],\n",
       "\n",
       "       [[0.61926344],\n",
       "        [0.88438285],\n",
       "        [0.75230018],\n",
       "        [0.96672622],\n",
       "        [0.79555617]],\n",
       "\n",
       "       [[0.55262019],\n",
       "        [0.82208376],\n",
       "        [0.92000118],\n",
       "        [0.96847092],\n",
       "        [0.92548839]]])"
      ]
     },
     "execution_count": 68,
     "metadata": {},
     "output_type": "execute_result"
    }
   ],
   "source": [
    "y_noisy"
   ]
  },
  {
   "cell_type": "code",
   "execution_count": 65,
   "id": "f230d9af",
   "metadata": {},
   "outputs": [
    {
     "data": {
      "text/plain": [
       "array([[0.26182721, 0.85875066, 0.80009154, 0.34084328, 0.10985421],\n",
       "       [0.87728085, 0.79888206, 0.053852  , 0.25724297, 0.58172919],\n",
       "       [0.58153434, 0.84917968, 0.56715161, 0.66552427, 0.66247143],\n",
       "       [0.74222989, 0.0449112 , 0.55826061, 0.74814736, 0.70214628],\n",
       "       [0.61818615, 0.90286317, 0.99914865, 0.18621455, 0.39668641]])"
      ]
     },
     "execution_count": 65,
     "metadata": {},
     "output_type": "execute_result"
    }
   ],
   "source": [
    "[np.random.rand(5, 1) for i in range(100)]"
   ]
  }
 ],
 "metadata": {
  "kernelspec": {
   "display_name": "Python 3 (ipykernel)",
   "language": "python",
   "name": "python3"
  },
  "language_info": {
   "codemirror_mode": {
    "name": "ipython",
    "version": 3
   },
   "file_extension": ".py",
   "mimetype": "text/x-python",
   "name": "python",
   "nbconvert_exporter": "python",
   "pygments_lexer": "ipython3",
   "version": "3.9.15"
  }
 },
 "nbformat": 4,
 "nbformat_minor": 5
}
