{
 "cells": [
  {
   "cell_type": "markdown",
   "id": "2e296317",
   "metadata": {},
   "source": [
    "# Matrix Approximation"
   ]
  },
  {
   "cell_type": "code",
   "execution_count": 94,
   "id": "f4a14ccd",
   "metadata": {},
   "outputs": [],
   "source": [
    "import torch\n",
    "import torch.nn as nn\n",
    "from torch import optim\n",
    "#from torchdiffeq import odeint_adjoint as odeint\n",
    "from scipy.linalg import expm\n",
    "from torchdiffeq import odeint\n",
    "import numpy as np\n",
    "import csv\n",
    "import os\n",
    "from tqdm import tqdm\n",
    "import matplotlib.pyplot as plt"
   ]
  },
  {
   "cell_type": "markdown",
   "id": "1c223b23",
   "metadata": {},
   "source": [
    "### Defining essential functions"
   ]
  },
  {
   "cell_type": "code",
   "execution_count": 2,
   "id": "c2ba1ea5",
   "metadata": {},
   "outputs": [],
   "source": [
    "def dydt(y, t, A):\n",
    "    return torch.mm(y,A)"
   ]
  },
  {
   "cell_type": "code",
   "execution_count": 3,
   "id": "4bc13465",
   "metadata": {},
   "outputs": [],
   "source": [
    "def phi_A(y,A):\n",
    "    return odeint(lambda t,x : dydt(x,t,A), y, torch.tensor([0., 1.]))[1]"
   ]
  },
  {
   "cell_type": "markdown",
   "id": "8669fbcc",
   "metadata": {},
   "source": [
    "### Neural ODE structure"
   ]
  },
  {
   "cell_type": "code",
   "execution_count": 4,
   "id": "f0c29990",
   "metadata": {},
   "outputs": [],
   "source": [
    "class ODEFunc(torch.nn.Module):\n",
    "    def __init__(self, A):\n",
    "        super(ODEFunc, self).__init__()\n",
    "        self.A = torch.nn.Parameter(torch.tensor(A))\n",
    "        \n",
    "    def forward(self, t, y):\n",
    "        return dydt(y, t, self.A)"
   ]
  },
  {
   "cell_type": "code",
   "execution_count": 5,
   "id": "36e67112",
   "metadata": {},
   "outputs": [],
   "source": [
    "class NeuralODE(torch.nn.Module):\n",
    "    def __init__(self, A_init):\n",
    "        super(NeuralODE, self).__init__()\n",
    "        self.func = ODEFunc(A_init)\n",
    "        self.dim=len(A_init)\n",
    "        self.hidden_layer = torch.nn.Linear(self.dim, 100)\n",
    "        self.output_layer = torch.nn.Linear(100, self.dim*self.dim)\n",
    "        \n",
    "    def forward(self, y):\n",
    "        y = self.hidden_layer(y)\n",
    "        y = torch.relu(y)\n",
    "        y = self.output_layer(y)\n",
    "        return y\n",
    "    \n",
    "    def get_A(self):\n",
    "        return self.func.A"
   ]
  },
  {
   "cell_type": "markdown",
   "id": "57bbab7e",
   "metadata": {},
   "source": [
    "## Training"
   ]
  },
  {
   "cell_type": "code",
   "execution_count": 7,
   "id": "8f266cd9",
   "metadata": {},
   "outputs": [],
   "source": [
    "dim = 10\n",
    "mean = 1"
   ]
  },
  {
   "cell_type": "code",
   "execution_count": 71,
   "id": "7020f04c",
   "metadata": {},
   "outputs": [],
   "source": [
    "def train_model(model, x_data,y_data,epochs=300, lr=0.05):\n",
    "    training_loss=[]\n",
    "    y_pred_list = []\n",
    "    optimizer = torch.optim.Adam(model.parameters(), lr=lr)\n",
    "    criterion = torch.nn.MSELoss()\n",
    "    for epoch in range(epochs):\n",
    "        optimizer.zero_grad()\n",
    "        y_pred = odeint(model.func, x_data, torch.tensor([0., 1.]), method='dopri5')[1]\n",
    "        loss = criterion(y_pred, y_data)\n",
    "        loss.backward()\n",
    "        optimizer.step()\n",
    "        if epoch % 20 == 0:\n",
    "            print(f\"Epoch {epoch}, Training Loss: {loss:.4f}\")\n",
    "            predict=torch.diag(neural_ode.get_A())\n",
    "            print(predict)\n",
    "            training_loss.append(round(loss.detach().numpy().item(),3))\n",
    "            y_pred_list.append(predict.detach().numpy())\n",
    "    return training_loss,y_pred_list"
   ]
  },
  {
   "cell_type": "code",
   "execution_count": 72,
   "id": "bc3da0dc",
   "metadata": {},
   "outputs": [],
   "source": [
    "n_samples=100\n",
    "stddevs=[i/10 for i in range(1,11)]\n",
    "x_data = torch.randn(n_samples, dim)"
   ]
  },
  {
   "cell_type": "code",
   "execution_count": 79,
   "id": "824b1a47",
   "metadata": {},
   "outputs": [
    {
     "name": "stderr",
     "output_type": "stream",
     "text": [
      "\r",
      "  0%|          | 0/10 [00:00<?, ?it/s]"
     ]
    },
    {
     "name": "stdout",
     "output_type": "stream",
     "text": [
      "Epoch 0, Training Loss: 0.1518\n",
      "tensor([1.0500, 0.9500, 0.9500, 0.9500, 1.0500, 0.9500, 0.9500, 0.9500, 0.9500,\n",
      "        1.0500], grad_fn=<DiagBackward0>)\n",
      "Epoch 20, Training Loss: 0.0129\n",
      "tensor([1.0860, 0.8888, 0.9272, 0.8463, 1.0333, 0.8837, 0.8897, 0.9492, 0.9606,\n",
      "        1.2276], grad_fn=<DiagBackward0>)\n",
      "Epoch 40, Training Loss: 0.0012\n",
      "tensor([1.0668, 0.8690, 0.9402, 0.7989, 1.0207, 0.8805, 0.9006, 0.9549, 0.9859,\n",
      "        1.2777], grad_fn=<DiagBackward0>)\n",
      "Epoch 60, Training Loss: 0.0002\n",
      "tensor([1.0686, 0.8590, 0.9537, 0.7998, 1.0198, 0.8823, 0.9115, 0.9634, 0.9834,\n",
      "        1.2804], grad_fn=<DiagBackward0>)\n",
      "Epoch 80, Training Loss: 0.0000\n",
      "tensor([1.0682, 0.8541, 0.9529, 0.8037, 1.0197, 0.8885, 0.9133, 0.9675, 0.9819,\n",
      "        1.2779], grad_fn=<DiagBackward0>)\n",
      "Epoch 100, Training Loss: 0.0000\n",
      "tensor([1.0689, 0.8534, 0.9521, 0.8055, 1.0190, 0.8875, 0.9117, 0.9654, 0.9825,\n",
      "        1.2767], grad_fn=<DiagBackward0>)\n",
      "Epoch 120, Training Loss: 0.0000\n",
      "tensor([1.0686, 0.8543, 0.9523, 0.8061, 1.0192, 0.8875, 0.9124, 0.9661, 0.9829,\n",
      "        1.2766], grad_fn=<DiagBackward0>)\n",
      "Epoch 140, Training Loss: 0.0000\n",
      "tensor([1.0686, 0.8542, 0.9523, 0.8062, 1.0191, 0.8875, 0.9122, 0.9658, 0.9829,\n",
      "        1.2769], grad_fn=<DiagBackward0>)\n",
      "Epoch 160, Training Loss: 0.0000\n",
      "tensor([1.0686, 0.8541, 0.9522, 0.8061, 1.0192, 0.8876, 0.9122, 0.9659, 0.9830,\n",
      "        1.2770], grad_fn=<DiagBackward0>)\n",
      "Epoch 180, Training Loss: 0.0000\n",
      "tensor([1.0686, 0.8542, 0.9523, 0.8061, 1.0192, 0.8876, 0.9122, 0.9659, 0.9830,\n",
      "        1.2770], grad_fn=<DiagBackward0>)\n",
      "Epoch 200, Training Loss: 0.0000\n",
      "tensor([1.0686, 0.8542, 0.9523, 0.8061, 1.0191, 0.8876, 0.9122, 0.9659, 0.9830,\n",
      "        1.2770], grad_fn=<DiagBackward0>)\n",
      "Epoch 220, Training Loss: 0.0000\n",
      "tensor([1.0686, 0.8542, 0.9523, 0.8061, 1.0191, 0.8876, 0.9122, 0.9659, 0.9830,\n",
      "        1.2770], grad_fn=<DiagBackward0>)\n",
      "Epoch 240, Training Loss: 0.0000\n",
      "tensor([1.0686, 0.8542, 0.9523, 0.8061, 1.0191, 0.8876, 0.9122, 0.9659, 0.9830,\n",
      "        1.2770], grad_fn=<DiagBackward0>)\n",
      "Epoch 260, Training Loss: 0.0000\n",
      "tensor([1.0686, 0.8542, 0.9523, 0.8061, 1.0191, 0.8876, 0.9122, 0.9659, 0.9830,\n",
      "        1.2770], grad_fn=<DiagBackward0>)\n",
      "Epoch 280, Training Loss: 0.0000\n",
      "tensor([1.0686, 0.8542, 0.9523, 0.8061, 1.0191, 0.8876, 0.9122, 0.9659, 0.9830,\n",
      "        1.2770], grad_fn=<DiagBackward0>)\n"
     ]
    },
    {
     "name": "stderr",
     "output_type": "stream",
     "text": [
      "\r",
      " 10%|█         | 1/10 [00:19<02:52, 19.18s/it]"
     ]
    },
    {
     "name": "stdout",
     "output_type": "stream",
     "text": [
      "Epoch 0, Training Loss: 0.2916\n",
      "tensor([1.0500, 1.0500, 0.9500, 1.0500, 0.9500, 1.0500, 1.0500, 0.9500, 0.9500,\n",
      "        0.9500], grad_fn=<DiagBackward0>)\n",
      "Epoch 20, Training Loss: 0.0128\n",
      "tensor([1.2470, 1.0653, 0.9015, 1.0628, 0.8780, 1.1592, 1.2655, 0.6066, 0.8848,\n",
      "        0.7941], grad_fn=<DiagBackward0>)\n",
      "Epoch 40, Training Loss: 0.0019\n",
      "tensor([1.2844, 1.0423, 0.8815, 1.0659, 0.8783, 1.1635, 1.3161, 0.7090, 0.8600,\n",
      "        0.7563], grad_fn=<DiagBackward0>)\n",
      "Epoch 60, Training Loss: 0.0003\n",
      "tensor([1.2858, 1.0436, 0.8704, 1.0565, 0.8868, 1.1536, 1.3127, 0.7011, 0.8495,\n",
      "        0.7728], grad_fn=<DiagBackward0>)\n",
      "Epoch 80, Training Loss: 0.0000\n",
      "tensor([1.2830, 1.0421, 0.8650, 1.0580, 0.8926, 1.1510, 1.3082, 0.6903, 0.8444,\n",
      "        0.7787], grad_fn=<DiagBackward0>)\n",
      "Epoch 100, Training Loss: 0.0000\n",
      "tensor([1.2823, 1.0423, 0.8643, 1.0588, 0.8902, 1.1530, 1.3062, 0.6943, 0.8427,\n",
      "        0.7795], grad_fn=<DiagBackward0>)\n",
      "Epoch 120, Training Loss: 0.0000\n",
      "tensor([1.2826, 1.0424, 0.8652, 1.0586, 0.8909, 1.1523, 1.3056, 0.6953, 0.8430,\n",
      "        0.7796], grad_fn=<DiagBackward0>)\n",
      "Epoch 140, Training Loss: 0.0000\n",
      "tensor([1.2830, 1.0423, 0.8651, 1.0587, 0.8907, 1.1524, 1.3057, 0.6950, 0.8433,\n",
      "        0.7797], grad_fn=<DiagBackward0>)\n",
      "Epoch 160, Training Loss: 0.0000\n",
      "tensor([1.2830, 1.0423, 0.8650, 1.0587, 0.8908, 1.1524, 1.3058, 0.6949, 0.8432,\n",
      "        0.7797], grad_fn=<DiagBackward0>)\n",
      "Epoch 180, Training Loss: 0.0000\n",
      "tensor([1.2830, 1.0423, 0.8651, 1.0587, 0.8908, 1.1524, 1.3058, 0.6948, 0.8432,\n",
      "        0.7798], grad_fn=<DiagBackward0>)\n",
      "Epoch 200, Training Loss: 0.0000\n",
      "tensor([1.2830, 1.0423, 0.8651, 1.0587, 0.8907, 1.1524, 1.3058, 0.6948, 0.8432,\n",
      "        0.7798], grad_fn=<DiagBackward0>)\n",
      "Epoch 220, Training Loss: 0.0000\n",
      "tensor([1.2830, 1.0423, 0.8651, 1.0587, 0.8907, 1.1524, 1.3058, 0.6948, 0.8432,\n",
      "        0.7798], grad_fn=<DiagBackward0>)\n",
      "Epoch 240, Training Loss: 0.0000\n",
      "tensor([1.2830, 1.0423, 0.8651, 1.0587, 0.8907, 1.1524, 1.3058, 0.6948, 0.8432,\n",
      "        0.7798], grad_fn=<DiagBackward0>)\n",
      "Epoch 260, Training Loss: 0.0000\n",
      "tensor([1.2830, 1.0423, 0.8651, 1.0587, 0.8907, 1.1524, 1.3058, 0.6948, 0.8432,\n",
      "        0.7798], grad_fn=<DiagBackward0>)\n",
      "Epoch 280, Training Loss: 0.0000\n",
      "tensor([1.2830, 1.0423, 0.8651, 1.0587, 0.8907, 1.1524, 1.3058, 0.6948, 0.8432,\n",
      "        0.7798], grad_fn=<DiagBackward0>)\n"
     ]
    },
    {
     "name": "stderr",
     "output_type": "stream",
     "text": [
      "\r",
      " 20%|██        | 2/10 [00:41<02:47, 20.95s/it]"
     ]
    },
    {
     "name": "stdout",
     "output_type": "stream",
     "text": [
      "Epoch 0, Training Loss: 0.4537\n",
      "tensor([0.9500, 1.0500, 0.9500, 0.9500, 1.0500, 0.9500, 0.9500, 1.0500, 1.0500,\n",
      "        0.9500], grad_fn=<DiagBackward0>)\n",
      "Epoch 20, Training Loss: 0.0280\n",
      "tensor([0.8526, 1.1381, 0.9940, 0.8783, 1.5736, 0.7351, 0.8905, 1.1565, 1.1722,\n",
      "        0.8853], grad_fn=<DiagBackward0>)\n",
      "Epoch 40, Training Loss: 0.0016\n",
      "tensor([0.8123, 1.1131, 0.9970, 0.8798, 1.5038, 0.7286, 0.8656, 1.1672, 1.1994,\n",
      "        0.8943], grad_fn=<DiagBackward0>)\n",
      "Epoch 60, Training Loss: 0.0006\n",
      "tensor([0.8120, 1.1149, 0.9930, 0.8885, 1.4849, 0.7579, 0.8573, 1.1595, 1.2110,\n",
      "        0.9028], grad_fn=<DiagBackward0>)\n",
      "Epoch 80, Training Loss: 0.0000\n",
      "tensor([0.8153, 1.1153, 0.9928, 0.8935, 1.4973, 0.7578, 0.8532, 1.1558, 1.2161,\n",
      "        0.9082], grad_fn=<DiagBackward0>)\n",
      "Epoch 100, Training Loss: 0.0000\n",
      "tensor([0.8168, 1.1150, 0.9943, 0.8914, 1.5001, 0.7554, 0.8512, 1.1579, 1.2169,\n",
      "        0.9059], grad_fn=<DiagBackward0>)\n",
      "Epoch 120, Training Loss: 0.0000\n",
      "tensor([0.8172, 1.1149, 0.9940, 0.8920, 1.4998, 0.7545, 0.8514, 1.1571, 1.2160,\n",
      "        0.9066], grad_fn=<DiagBackward0>)\n",
      "Epoch 140, Training Loss: 0.0000\n",
      "tensor([0.8170, 1.1150, 0.9941, 0.8918, 1.4994, 0.7543, 0.8517, 1.1573, 1.2160,\n",
      "        0.9063], grad_fn=<DiagBackward0>)\n",
      "Epoch 160, Training Loss: 0.0000\n",
      "tensor([0.8169, 1.1151, 0.9940, 0.8919, 1.4993, 0.7542, 0.8516, 1.1573, 1.2161,\n",
      "        0.9064], grad_fn=<DiagBackward0>)\n",
      "Epoch 180, Training Loss: 0.0000\n",
      "tensor([0.8169, 1.1151, 0.9940, 0.8919, 1.4992, 0.7542, 0.8516, 1.1573, 1.2161,\n",
      "        0.9064], grad_fn=<DiagBackward0>)\n",
      "Epoch 200, Training Loss: 0.0000\n",
      "tensor([0.8169, 1.1151, 0.9940, 0.8919, 1.4992, 0.7542, 0.8516, 1.1573, 1.2161,\n",
      "        0.9064], grad_fn=<DiagBackward0>)\n",
      "Epoch 220, Training Loss: 0.0000\n",
      "tensor([0.8169, 1.1151, 0.9940, 0.8919, 1.4992, 0.7542, 0.8516, 1.1573, 1.2161,\n",
      "        0.9064], grad_fn=<DiagBackward0>)\n",
      "Epoch 240, Training Loss: 0.0000\n",
      "tensor([0.8169, 1.1151, 0.9940, 0.8919, 1.4992, 0.7542, 0.8516, 1.1573, 1.2161,\n",
      "        0.9064], grad_fn=<DiagBackward0>)\n",
      "Epoch 260, Training Loss: 0.0000\n",
      "tensor([0.8169, 1.1151, 0.9940, 0.8919, 1.4992, 0.7542, 0.8516, 1.1573, 1.2161,\n",
      "        0.9064], grad_fn=<DiagBackward0>)\n",
      "Epoch 280, Training Loss: 0.0000\n",
      "tensor([0.8169, 1.1151, 0.9940, 0.8919, 1.4992, 0.7542, 0.8516, 1.1573, 1.2161,\n",
      "        0.9064], grad_fn=<DiagBackward0>)\n"
     ]
    },
    {
     "name": "stderr",
     "output_type": "stream",
     "text": [
      "\r",
      " 30%|███       | 3/10 [01:02<02:27, 21.08s/it]"
     ]
    },
    {
     "name": "stdout",
     "output_type": "stream",
     "text": [
      "Epoch 0, Training Loss: 0.9623\n",
      "tensor([1.0500, 1.0500, 0.9500, 1.0500, 1.0500, 1.0500, 0.9500, 1.0500, 0.9500,\n",
      "        1.0500], grad_fn=<DiagBackward0>)\n",
      "Epoch 20, Training Loss: 0.0538\n",
      "tensor([1.4784, 1.2913, 0.9156, 1.0219, 1.1299, 1.6686, 0.7262, 1.0936, 0.7504,\n",
      "        1.2941], grad_fn=<DiagBackward0>)\n",
      "Epoch 40, Training Loss: 0.0055\n",
      "tensor([1.4496, 1.3370, 0.9123, 1.0227, 1.1032, 1.5462, 0.7418, 1.0765, 0.7303,\n",
      "        1.3444], grad_fn=<DiagBackward0>)\n",
      "Epoch 60, Training Loss: 0.0009\n",
      "tensor([1.4239, 1.3287, 0.9008, 1.0189, 1.1137, 1.5566, 0.7763, 1.0863, 0.7563,\n",
      "        1.3363], grad_fn=<DiagBackward0>)\n",
      "Epoch 80, Training Loss: 0.0001\n",
      "tensor([1.4256, 1.3238, 0.8966, 1.0185, 1.1105, 1.5719, 0.7746, 1.0835, 0.7594,\n",
      "        1.3306], grad_fn=<DiagBackward0>)\n",
      "Epoch 100, Training Loss: 0.0000\n",
      "tensor([1.4291, 1.3216, 0.8975, 1.0177, 1.1103, 1.5709, 0.7714, 1.0843, 0.7581,\n",
      "        1.3285], grad_fn=<DiagBackward0>)\n",
      "Epoch 120, Training Loss: 0.0000\n",
      "tensor([1.4298, 1.3208, 0.8982, 1.0179, 1.1105, 1.5693, 0.7704, 1.0844, 0.7574,\n",
      "        1.3276], grad_fn=<DiagBackward0>)\n",
      "Epoch 140, Training Loss: 0.0000\n",
      "tensor([1.4301, 1.3206, 0.8979, 1.0179, 1.1106, 1.5689, 0.7702, 1.0845, 0.7571,\n",
      "        1.3273], grad_fn=<DiagBackward0>)\n",
      "Epoch 160, Training Loss: 0.0000\n",
      "tensor([1.4302, 1.3206, 0.8980, 1.0179, 1.1107, 1.5688, 0.7701, 1.0845, 0.7570,\n",
      "        1.3273], grad_fn=<DiagBackward0>)\n",
      "Epoch 180, Training Loss: 0.0000\n",
      "tensor([1.4302, 1.3206, 0.8980, 1.0179, 1.1107, 1.5689, 0.7701, 1.0845, 0.7569,\n",
      "        1.3273], grad_fn=<DiagBackward0>)\n",
      "Epoch 200, Training Loss: 0.0000\n",
      "tensor([1.4302, 1.3206, 0.8980, 1.0179, 1.1107, 1.5689, 0.7701, 1.0845, 0.7569,\n",
      "        1.3273], grad_fn=<DiagBackward0>)\n",
      "Epoch 220, Training Loss: 0.0000\n",
      "tensor([1.4303, 1.3206, 0.8980, 1.0179, 1.1107, 1.5689, 0.7700, 1.0845, 0.7569,\n",
      "        1.3273], grad_fn=<DiagBackward0>)\n",
      "Epoch 240, Training Loss: 0.0000\n",
      "tensor([1.4303, 1.3206, 0.8980, 1.0179, 1.1106, 1.5689, 0.7700, 1.0845, 0.7569,\n",
      "        1.3273], grad_fn=<DiagBackward0>)\n",
      "Epoch 260, Training Loss: 0.0000\n",
      "tensor([1.4302, 1.3206, 0.8980, 1.0179, 1.1106, 1.5689, 0.7700, 1.0845, 0.7569,\n",
      "        1.3273], grad_fn=<DiagBackward0>)\n",
      "Epoch 280, Training Loss: 0.0000\n",
      "tensor([1.4302, 1.3206, 0.8980, 1.0179, 1.1107, 1.5689, 0.7700, 1.0845, 0.7569,\n",
      "        1.3273], grad_fn=<DiagBackward0>)\n"
     ]
    },
    {
     "name": "stderr",
     "output_type": "stream",
     "text": [
      "\r",
      " 40%|████      | 4/10 [01:27<02:14, 22.40s/it]"
     ]
    },
    {
     "name": "stdout",
     "output_type": "stream",
     "text": [
      "Epoch 0, Training Loss: 0.9558\n",
      "tensor([0.9500, 0.9500, 0.9500, 1.0500, 1.0500, 0.9500, 0.9500, 1.0500, 0.9500,\n",
      "        1.0500], grad_fn=<DiagBackward0>)\n",
      "Epoch 20, Training Loss: 0.0149\n",
      "tensor([0.9138, 0.3149, 0.2445, 1.3504, 1.0444, 0.2133, 0.8357, 1.0329, 0.8735,\n",
      "        1.2823], grad_fn=<DiagBackward0>)\n",
      "Epoch 40, Training Loss: 0.0065\n",
      "tensor([0.8892, 0.3718, 0.0711, 1.3910, 1.0527, 0.0273, 0.7886, 1.0122, 0.8897,\n",
      "        1.3357], grad_fn=<DiagBackward0>)\n",
      "Epoch 60, Training Loss: 0.0012\n",
      "tensor([0.8900, 0.4610, 0.1210, 1.3700, 1.0554, 0.0628, 0.7990, 1.0034, 0.9016,\n",
      "        1.3270], grad_fn=<DiagBackward0>)\n",
      "Epoch 80, Training Loss: 0.0001\n",
      "tensor([0.8872, 0.4265, 0.1724, 1.3641, 1.0570, 0.1129, 0.8045, 1.0046, 0.8995,\n",
      "        1.3212], grad_fn=<DiagBackward0>)\n",
      "Epoch 100, Training Loss: 0.0000\n",
      "tensor([0.8864, 0.4343, 0.1779, 1.3636, 1.0570, 0.1251, 0.8063, 1.0059, 0.8997,\n",
      "        1.3192], grad_fn=<DiagBackward0>)\n",
      "Epoch 120, Training Loss: 0.0000\n",
      "tensor([0.8861, 0.4336, 0.1714, 1.3637, 1.0568, 0.1204, 0.8070, 1.0054, 0.8993,\n",
      "        1.3184], grad_fn=<DiagBackward0>)\n",
      "Epoch 140, Training Loss: 0.0000\n",
      "tensor([0.8863, 0.4333, 0.1707, 1.3637, 1.0569, 0.1184, 0.8073, 1.0055, 0.8996,\n",
      "        1.3181], grad_fn=<DiagBackward0>)\n",
      "Epoch 160, Training Loss: 0.0000\n",
      "tensor([0.8863, 0.4335, 0.1716, 1.3636, 1.0569, 0.1190, 0.8074, 1.0055, 0.8995,\n",
      "        1.3180], grad_fn=<DiagBackward0>)\n",
      "Epoch 180, Training Loss: 0.0000\n",
      "tensor([0.8863, 0.4334, 0.1716, 1.3636, 1.0569, 0.1192, 0.8074, 1.0055, 0.8995,\n",
      "        1.3180], grad_fn=<DiagBackward0>)\n",
      "Epoch 200, Training Loss: 0.0000\n",
      "tensor([0.8863, 0.4334, 0.1715, 1.3636, 1.0569, 0.1191, 0.8074, 1.0055, 0.8995,\n",
      "        1.3180], grad_fn=<DiagBackward0>)\n",
      "Epoch 220, Training Loss: 0.0000\n",
      "tensor([0.8863, 0.4334, 0.1715, 1.3636, 1.0569, 0.1191, 0.8074, 1.0055, 0.8995,\n",
      "        1.3180], grad_fn=<DiagBackward0>)\n",
      "Epoch 240, Training Loss: 0.0000\n",
      "tensor([0.8863, 0.4334, 0.1715, 1.3636, 1.0569, 0.1191, 0.8074, 1.0055, 0.8995,\n",
      "        1.3180], grad_fn=<DiagBackward0>)\n",
      "Epoch 260, Training Loss: 0.0000\n",
      "tensor([0.8863, 0.4334, 0.1715, 1.3636, 1.0569, 0.1191, 0.8074, 1.0055, 0.8995,\n",
      "        1.3180], grad_fn=<DiagBackward0>)\n",
      "Epoch 280, Training Loss: 0.0000\n",
      "tensor([0.8863, 0.4334, 0.1715, 1.3636, 1.0569, 0.1191, 0.8074, 1.0055, 0.8995,\n",
      "        1.3180], grad_fn=<DiagBackward0>)\n"
     ]
    },
    {
     "name": "stderr",
     "output_type": "stream",
     "text": [
      "\r",
      " 50%|█████     | 5/10 [01:48<01:50, 22.19s/it]"
     ]
    },
    {
     "name": "stdout",
     "output_type": "stream",
     "text": [
      "Epoch 0, Training Loss: 5.6050\n",
      "tensor([0.9500, 0.9500, 0.9500, 1.0500, 1.0500, 1.0500, 1.0500, 1.0500, 1.0500,\n",
      "        0.9500], grad_fn=<DiagBackward0>)\n",
      "Epoch 20, Training Loss: 0.7561\n",
      "tensor([0.4651, 0.2734, 0.1427, 1.5542, 1.4908, 1.1789, 0.7066, 1.9153, 1.7689,\n",
      "        0.1720], grad_fn=<DiagBackward0>)\n",
      "Epoch 40, Training Loss: 0.2970\n",
      "tensor([ 0.2063, -0.0680, -0.4701,  1.5789,  1.5812,  1.2040,  1.0757,  2.2233,\n",
      "         1.7009, -0.1338], grad_fn=<DiagBackward0>)\n",
      "Epoch 60, Training Loss: 0.2029\n",
      "tensor([ 0.3131,  0.2894, -0.5971,  1.5844,  1.5534,  1.2250,  1.0277,  2.1849,\n",
      "         1.7358, -0.2640], grad_fn=<DiagBackward0>)\n",
      "Epoch 80, Training Loss: 0.1448\n",
      "tensor([ 0.4977,  0.6723, -0.4653,  1.5763,  1.5531,  1.2355,  1.0410,  2.1841,\n",
      "         1.7323, -0.3734], grad_fn=<DiagBackward0>)\n",
      "Epoch 100, Training Loss: 0.0625\n",
      "tensor([ 0.7632,  0.7554,  0.0947,  1.5754,  1.5546,  1.2352,  1.0701,  2.1849,\n",
      "         1.7328, -0.4407], grad_fn=<DiagBackward0>)\n",
      "Epoch 120, Training Loss: 0.0109\n",
      "tensor([ 0.7737,  0.7499,  0.7449,  1.5755,  1.5557,  1.2347,  1.0691,  2.1883,\n",
      "         1.7322, -0.3791], grad_fn=<DiagBackward0>)\n",
      "Epoch 140, Training Loss: 0.0023\n",
      "tensor([ 0.7800,  0.7502,  0.5631,  1.5756,  1.5561,  1.2346,  1.0695,  2.1878,\n",
      "         1.7318, -0.2539], grad_fn=<DiagBackward0>)\n",
      "Epoch 160, Training Loss: 0.0003\n",
      "tensor([ 0.7812,  0.7507,  0.6340,  1.5756,  1.5562,  1.2348,  1.0698,  2.1874,\n",
      "         1.7317, -0.1636], grad_fn=<DiagBackward0>)\n",
      "Epoch 180, Training Loss: 0.0001\n",
      "tensor([ 0.7812,  0.7507,  0.6110,  1.5756,  1.5563,  1.2347,  1.0697,  2.1874,\n",
      "         1.7316, -0.1260], grad_fn=<DiagBackward0>)\n",
      "Epoch 200, Training Loss: 0.0000\n",
      "tensor([ 0.7813,  0.7506,  0.6174,  1.5756,  1.5563,  1.2348,  1.0697,  2.1873,\n",
      "         1.7316, -0.1204], grad_fn=<DiagBackward0>)\n",
      "Epoch 220, Training Loss: 0.0000\n",
      "tensor([ 0.7813,  0.7506,  0.6165,  1.5756,  1.5563,  1.2347,  1.0697,  2.1873,\n",
      "         1.7316, -0.1233], grad_fn=<DiagBackward0>)\n",
      "Epoch 240, Training Loss: 0.0000\n",
      "tensor([ 0.7814,  0.7506,  0.6162,  1.5756,  1.5563,  1.2347,  1.0697,  2.1873,\n",
      "         1.7316, -0.1249], grad_fn=<DiagBackward0>)\n",
      "Epoch 260, Training Loss: 0.0000\n",
      "tensor([ 0.7814,  0.7506,  0.6165,  1.5756,  1.5563,  1.2347,  1.0697,  2.1873,\n",
      "         1.7316, -0.1251], grad_fn=<DiagBackward0>)\n",
      "Epoch 280, Training Loss: 0.0000\n",
      "tensor([ 0.7814,  0.7506,  0.6164,  1.5756,  1.5563,  1.2347,  1.0697,  2.1873,\n",
      "         1.7316, -0.1249], grad_fn=<DiagBackward0>)\n"
     ]
    },
    {
     "name": "stderr",
     "output_type": "stream",
     "text": [
      "\r",
      " 60%|██████    | 6/10 [02:23<01:45, 26.43s/it]"
     ]
    },
    {
     "name": "stdout",
     "output_type": "stream",
     "text": [
      "Epoch 0, Training Loss: 0.6799\n",
      "tensor([0.9500, 0.9500, 1.0500, 0.9500, 0.9500, 0.9500, 0.9500, 1.0500, 1.0500,\n",
      "        1.0500], grad_fn=<DiagBackward0>)\n",
      "Epoch 20, Training Loss: 0.0165\n",
      "tensor([0.8875, 0.8845, 1.0452, 0.2142, 0.3096, 0.3270, 0.9094, 1.3256, 1.1738,\n",
      "        1.1364], grad_fn=<DiagBackward0>)\n",
      "Epoch 40, Training Loss: 0.0053\n",
      "tensor([0.8527, 0.9130, 1.0363, 0.0662, 0.3712, 0.4040, 0.9267, 1.3666, 1.2042,\n",
      "        1.1108], grad_fn=<DiagBackward0>)\n",
      "Epoch 60, Training Loss: 0.0009\n",
      "tensor([0.8461, 0.9209, 1.0336, 0.1321, 0.4600, 0.4785, 0.9307, 1.3511, 1.2153,\n",
      "        1.1105], grad_fn=<DiagBackward0>)\n",
      "Epoch 80, Training Loss: 0.0001\n",
      "tensor([0.8437, 0.9193, 1.0323, 0.1830, 0.4251, 0.4438, 0.9347, 1.3448, 1.2205,\n",
      "        1.1116], grad_fn=<DiagBackward0>)\n",
      "Epoch 100, Training Loss: 0.0000\n",
      "tensor([0.8422, 0.9196, 1.0328, 0.1828, 0.4334, 0.4548, 0.9333, 1.3434, 1.2223,\n",
      "        1.1122], grad_fn=<DiagBackward0>)\n",
      "Epoch 120, Training Loss: 0.0000\n",
      "tensor([0.8416, 0.9191, 1.0325, 0.1760, 0.4324, 0.4519, 0.9338, 1.3429, 1.2218,\n",
      "        1.1118], grad_fn=<DiagBackward0>)\n",
      "Epoch 140, Training Loss: 0.0000\n",
      "tensor([0.8418, 0.9193, 1.0326, 0.1765, 0.4323, 0.4527, 0.9335, 1.3427, 1.2215,\n",
      "        1.1118], grad_fn=<DiagBackward0>)\n",
      "Epoch 160, Training Loss: 0.0000\n",
      "tensor([0.8419, 0.9193, 1.0326, 0.1773, 0.4324, 0.4524, 0.9336, 1.3425, 1.2217,\n",
      "        1.1118], grad_fn=<DiagBackward0>)\n",
      "Epoch 180, Training Loss: 0.0000\n",
      "tensor([0.8418, 0.9193, 1.0326, 0.1771, 0.4324, 0.4525, 0.9336, 1.3425, 1.2216,\n",
      "        1.1118], grad_fn=<DiagBackward0>)\n",
      "Epoch 200, Training Loss: 0.0000\n",
      "tensor([0.8418, 0.9193, 1.0326, 0.1770, 0.4324, 0.4525, 0.9336, 1.3425, 1.2216,\n",
      "        1.1118], grad_fn=<DiagBackward0>)\n",
      "Epoch 220, Training Loss: 0.0000\n",
      "tensor([0.8418, 0.9193, 1.0326, 0.1771, 0.4324, 0.4525, 0.9336, 1.3425, 1.2216,\n",
      "        1.1118], grad_fn=<DiagBackward0>)\n",
      "Epoch 240, Training Loss: 0.0000\n",
      "tensor([0.8418, 0.9193, 1.0326, 0.1770, 0.4324, 0.4525, 0.9336, 1.3425, 1.2216,\n",
      "        1.1118], grad_fn=<DiagBackward0>)\n",
      "Epoch 260, Training Loss: 0.0000\n",
      "tensor([0.8418, 0.9193, 1.0326, 0.1770, 0.4324, 0.4525, 0.9336, 1.3425, 1.2216,\n",
      "        1.1118], grad_fn=<DiagBackward0>)\n",
      "Epoch 280, Training Loss: 0.0000\n",
      "tensor([0.8418, 0.9193, 1.0326, 0.1770, 0.4324, 0.4525, 0.9336, 1.3425, 1.2216,\n",
      "        1.1118], grad_fn=<DiagBackward0>)\n"
     ]
    },
    {
     "name": "stderr",
     "output_type": "stream",
     "text": [
      "\r",
      " 70%|███████   | 7/10 [02:45<01:14, 24.94s/it]"
     ]
    },
    {
     "name": "stdout",
     "output_type": "stream",
     "text": [
      "Epoch 0, Training Loss: 3.3096\n",
      "tensor([0.9500, 0.9500, 1.0500, 0.9500, 1.0500, 0.9500, 0.9500, 0.9500, 1.0500,\n",
      "        1.0500], grad_fn=<DiagBackward0>)\n",
      "Epoch 20, Training Loss: 0.1316\n",
      "tensor([0.5957, 0.3178, 1.0885, 0.6388, 1.8750, 0.9103, 0.1750, 0.2441, 1.4498,\n",
      "        1.8726], grad_fn=<DiagBackward0>)\n",
      "Epoch 40, Training Loss: 0.0363\n",
      "tensor([ 0.8101,  0.4935,  1.0669,  0.7253,  1.7230,  0.8924, -0.1332,  0.1788,\n",
      "         1.4518,  1.7523], grad_fn=<DiagBackward0>)\n",
      "Epoch 60, Training Loss: 0.0036\n",
      "tensor([ 0.8250,  0.5495,  1.0602,  0.7444,  1.7874,  0.8788, -0.2224,  0.2889,\n",
      "         1.4350,  1.8215], grad_fn=<DiagBackward0>)\n",
      "Epoch 80, Training Loss: 0.0003\n",
      "tensor([ 0.8189,  0.5171,  1.0636,  0.7323,  1.7828,  0.8880, -0.2428,  0.3208,\n",
      "         1.4315,  1.8109], grad_fn=<DiagBackward0>)\n",
      "Epoch 100, Training Loss: 0.0001\n",
      "tensor([ 0.8215,  0.5304,  1.0618,  0.7308,  1.7768,  0.8875, -0.2452,  0.3038,\n",
      "         1.4312,  1.8048], grad_fn=<DiagBackward0>)\n",
      "Epoch 120, Training Loss: 0.0000\n",
      "tensor([ 0.8224,  0.5257,  1.0626,  0.7315,  1.7774,  0.8872, -0.2441,  0.3041,\n",
      "         1.4311,  1.8061], grad_fn=<DiagBackward0>)\n",
      "Epoch 140, Training Loss: 0.0000\n",
      "tensor([ 0.8222,  0.5271,  1.0623,  0.7319,  1.7781,  0.8871, -0.2429,  0.3061,\n",
      "         1.4310,  1.8067], grad_fn=<DiagBackward0>)\n",
      "Epoch 160, Training Loss: 0.0000\n",
      "tensor([ 0.8222,  0.5268,  1.0624,  0.7321,  1.7782,  0.8872, -0.2423,  0.3053,\n",
      "         1.4309,  1.8069], grad_fn=<DiagBackward0>)\n",
      "Epoch 180, Training Loss: 0.0000\n",
      "tensor([ 0.8221,  0.5268,  1.0624,  0.7321,  1.7782,  0.8872, -0.2420,  0.3054,\n",
      "         1.4308,  1.8069], grad_fn=<DiagBackward0>)\n",
      "Epoch 200, Training Loss: 0.0000\n",
      "tensor([ 0.8221,  0.5269,  1.0624,  0.7321,  1.7782,  0.8872, -0.2419,  0.3054,\n",
      "         1.4309,  1.8068], grad_fn=<DiagBackward0>)\n",
      "Epoch 220, Training Loss: 0.0000\n",
      "tensor([ 0.8221,  0.5268,  1.0624,  0.7321,  1.7782,  0.8872, -0.2419,  0.3054,\n",
      "         1.4309,  1.8068], grad_fn=<DiagBackward0>)\n",
      "Epoch 240, Training Loss: 0.0000\n",
      "tensor([ 0.8221,  0.5268,  1.0624,  0.7321,  1.7782,  0.8872, -0.2419,  0.3054,\n",
      "         1.4309,  1.8068], grad_fn=<DiagBackward0>)\n",
      "Epoch 260, Training Loss: 0.0000\n",
      "tensor([ 0.8221,  0.5268,  1.0624,  0.7321,  1.7782,  0.8872, -0.2419,  0.3054,\n",
      "         1.4309,  1.8068], grad_fn=<DiagBackward0>)\n",
      "Epoch 280, Training Loss: 0.0000\n",
      "tensor([ 0.8221,  0.5268,  1.0624,  0.7321,  1.7782,  0.8872, -0.2419,  0.3054,\n",
      "         1.4309,  1.8068], grad_fn=<DiagBackward0>)\n"
     ]
    },
    {
     "name": "stderr",
     "output_type": "stream",
     "text": [
      "\r",
      " 80%|████████  | 8/10 [03:12<00:51, 25.71s/it]"
     ]
    },
    {
     "name": "stdout",
     "output_type": "stream",
     "text": [
      "Epoch 0, Training Loss: 3.4404\n",
      "tensor([1.0500, 1.0500, 0.9500, 0.9500, 1.0500, 0.9500, 1.0500, 1.0500, 0.9500,\n",
      "        1.0500], grad_fn=<DiagBackward0>)\n",
      "Epoch 20, Training Loss: 0.1603\n",
      "tensor([1.6698, 1.0499, 0.2998, 0.2071, 1.4431, 0.9707, 1.8772, 1.7678, 0.1691,\n",
      "        1.6546], grad_fn=<DiagBackward0>)\n",
      "Epoch 40, Training Loss: 0.0279\n",
      "tensor([ 1.5866,  1.0613,  0.4968,  0.0444,  1.4491,  0.9316,  1.7481,  1.6300,\n",
      "        -0.1039,  1.5467], grad_fn=<DiagBackward0>)\n",
      "Epoch 60, Training Loss: 0.0037\n",
      "tensor([ 1.6225,  1.0592,  0.5710,  0.1019,  1.4214,  0.9261,  1.8227,  1.6753,\n",
      "        -0.1493,  1.5484], grad_fn=<DiagBackward0>)\n",
      "Epoch 80, Training Loss: 0.0003\n",
      "tensor([ 1.6158,  1.0601,  0.5375,  0.1561,  1.4195,  0.9371,  1.8072,  1.6788,\n",
      "        -0.1374,  1.5600], grad_fn=<DiagBackward0>)\n",
      "Epoch 100, Training Loss: 0.0001\n",
      "tensor([ 1.6114,  1.0601,  0.5513,  0.1613,  1.4213,  0.9324,  1.8024,  1.6731,\n",
      "        -0.1215,  1.5610], grad_fn=<DiagBackward0>)\n",
      "Epoch 120, Training Loss: 0.0000\n",
      "tensor([ 1.6115,  1.0601,  0.5469,  0.1543,  1.4221,  0.9335,  1.8040,  1.6719,\n",
      "        -0.1134,  1.5602], grad_fn=<DiagBackward0>)\n",
      "Epoch 140, Training Loss: 0.0000\n",
      "tensor([ 1.6116,  1.0602,  0.5480,  0.1537,  1.4225,  0.9332,  1.8048,  1.6720,\n",
      "        -0.1113,  1.5599], grad_fn=<DiagBackward0>)\n",
      "Epoch 160, Training Loss: 0.0000\n",
      "tensor([ 1.6117,  1.0602,  0.5479,  0.1547,  1.4226,  0.9333,  1.8048,  1.6722,\n",
      "        -0.1114,  1.5597], grad_fn=<DiagBackward0>)\n",
      "Epoch 180, Training Loss: 0.0000\n",
      "tensor([ 1.6118,  1.0602,  0.5478,  0.1546,  1.4226,  0.9333,  1.8047,  1.6723,\n",
      "        -0.1117,  1.5597], grad_fn=<DiagBackward0>)\n",
      "Epoch 200, Training Loss: 0.0000\n",
      "tensor([ 1.6118,  1.0602,  0.5479,  0.1545,  1.4226,  0.9333,  1.8047,  1.6723,\n",
      "        -0.1118,  1.5597], grad_fn=<DiagBackward0>)\n",
      "Epoch 220, Training Loss: 0.0000\n",
      "tensor([ 1.6118,  1.0602,  0.5478,  0.1545,  1.4226,  0.9333,  1.8047,  1.6723,\n",
      "        -0.1118,  1.5597], grad_fn=<DiagBackward0>)\n",
      "Epoch 240, Training Loss: 0.0000\n",
      "tensor([ 1.6118,  1.0602,  0.5479,  0.1545,  1.4226,  0.9333,  1.8047,  1.6723,\n",
      "        -0.1118,  1.5597], grad_fn=<DiagBackward0>)\n",
      "Epoch 260, Training Loss: 0.0000\n",
      "tensor([ 1.6118,  1.0602,  0.5479,  0.1545,  1.4226,  0.9333,  1.8047,  1.6723,\n",
      "        -0.1118,  1.5597], grad_fn=<DiagBackward0>)\n",
      "Epoch 280, Training Loss: 0.0001\n",
      "tensor([ 1.6118,  1.0605,  0.5479,  0.1545,  1.4226,  0.9333,  1.8047,  1.6723,\n",
      "        -0.1118,  1.5596], grad_fn=<DiagBackward0>)\n"
     ]
    },
    {
     "name": "stderr",
     "output_type": "stream",
     "text": [
      "\r",
      " 90%|█████████ | 9/10 [03:41<00:26, 26.69s/it]"
     ]
    },
    {
     "name": "stdout",
     "output_type": "stream",
     "text": [
      "Epoch 0, Training Loss: 100.4072\n",
      "tensor([1.0500, 1.0500, 1.0500, 0.9500, 1.0500, 1.0500, 0.9500, 0.9500, 0.9500,\n",
      "        1.0500], grad_fn=<DiagBackward0>)\n",
      "Epoch 20, Training Loss: 28.0022\n",
      "tensor([0.6390, 1.2401, 2.0444, 0.3296, 0.6424, 1.5360, 0.0306, 0.3361, 0.0185,\n",
      "        1.8844], grad_fn=<DiagBackward0>)\n",
      "Epoch 40, Training Loss: 8.9638\n",
      "tensor([-0.4637,  1.2850,  2.7263, -0.0768,  0.0882,  1.2446, -0.6378, -0.6678,\n",
      "        -0.9110,  2.3143], grad_fn=<DiagBackward0>)\n",
      "Epoch 60, Training Loss: 3.9051\n",
      "tensor([-1.0642,  1.1523,  3.0927, -0.1436, -0.0459,  1.2636, -0.9906, -1.4329,\n",
      "        -1.3245,  2.4750], grad_fn=<DiagBackward0>)\n",
      "Epoch 80, Training Loss: 2.1655\n",
      "tensor([-1.4779,  1.2734,  3.2584, -0.2567, -0.1959,  1.3619, -1.0867, -1.7602,\n",
      "        -1.5692,  2.5923], grad_fn=<DiagBackward0>)\n",
      "Epoch 100, Training Loss: 1.3862\n",
      "tensor([-1.6385,  1.2969,  3.3330, -0.3083, -0.2873,  1.4759, -1.1292, -1.9983,\n",
      "        -1.7123,  2.6490], grad_fn=<DiagBackward0>)\n",
      "Epoch 120, Training Loss: 1.0033\n",
      "tensor([-1.7589,  1.3503,  3.3684, -0.3380, -0.3154,  1.5908, -1.2456, -2.1947,\n",
      "        -1.8080,  2.6755], grad_fn=<DiagBackward0>)\n",
      "Epoch 140, Training Loss: 0.8036\n",
      "tensor([-1.8024,  1.4082,  3.3883, -0.3534, -0.3420,  1.6940, -1.3449, -2.3379,\n",
      "        -1.8772,  2.6863], grad_fn=<DiagBackward0>)\n",
      "Epoch 160, Training Loss: 0.6917\n",
      "tensor([-1.8241,  1.4599,  3.3999, -0.3581, -0.3461,  1.7814, -1.4193, -2.4477,\n",
      "        -1.9322,  2.6905], grad_fn=<DiagBackward0>)\n",
      "Epoch 180, Training Loss: 0.6223\n",
      "tensor([-1.8261,  1.5078,  3.4063, -0.3550, -0.3428,  1.8520, -1.4909, -2.5404,\n",
      "        -1.9782,  2.6922], grad_fn=<DiagBackward0>)\n",
      "Epoch 200, Training Loss: 0.5744\n",
      "tensor([-1.8170,  1.5504,  3.4097, -0.3467, -0.3322,  1.9063, -1.5611, -2.6207,\n",
      "        -2.0187,  2.6930], grad_fn=<DiagBackward0>)\n",
      "Epoch 220, Training Loss: 0.5389\n",
      "tensor([-1.7998,  1.5876,  3.4115, -0.3342, -0.3158,  1.9462, -1.6298, -2.6918,\n",
      "        -2.0559,  2.6933], grad_fn=<DiagBackward0>)\n",
      "Epoch 240, Training Loss: 0.5118\n",
      "tensor([-1.7767,  1.6195,  3.4123, -0.3180, -0.2946,  1.9743, -1.6985, -2.7557,\n",
      "        -2.0912,  2.6935], grad_fn=<DiagBackward0>)\n",
      "Epoch 260, Training Loss: 0.4906\n",
      "tensor([-1.7489,  1.6465,  3.4127, -0.2988, -0.2692,  1.9931, -1.7675, -2.8137,\n",
      "        -2.1253,  2.6935], grad_fn=<DiagBackward0>)\n",
      "Epoch 280, Training Loss: 0.4740\n",
      "tensor([-1.7175,  1.6691,  3.4130, -0.2772, -0.2403,  2.0051, -1.8371, -2.8669,\n",
      "        -2.1590,  2.6936], grad_fn=<DiagBackward0>)\n"
     ]
    },
    {
     "name": "stderr",
     "output_type": "stream",
     "text": [
      "100%|██████████| 10/10 [05:00<00:00, 30.01s/it]\n"
     ]
    }
   ],
   "source": [
    "import numpy as np\n",
    "\n",
    "data = {}\n",
    "\n",
    "file_path = 'data.npy'\n",
    "if os.path.exists(file_path):\n",
    "    data = np.load(file_path, allow_pickle=True).item()\n",
    "\n",
    "for stddev in tqdm(stddevs):\n",
    "    print(\"déviation standard : \",str(stddev))\n",
    "    \n",
    "    diag = torch.from_numpy(np.random.normal(loc=mean, scale=stddev, size=dim).astype(np.float32))\n",
    "    A_true = torch.diag(diag)\n",
    "    print(\"matrice à viser : \" , diag)\n",
    "\n",
    "    y_data = phi_A(x_data, A_true)\n",
    "\n",
    "    neural_ode = NeuralODE(np.eye(dim).astype(np.float32))\n",
    "    training_loss,y_pred_list = train_model(neural_ode, x_data, y_data)\n",
    "    A_estimated = neural_ode.get_A()\n",
    "    frob_losses[str(stddev)]=np.linalg.norm((A_true-A_estimated).detach().numpy())\n",
    "\n",
    "    key = str(stddev)\n",
    "    data[key] = {'training_loss': training_loss, 'A_true': diag,'y_pred':y_pred_list,'frob':frob_losses}\n",
    "\n",
    "np.save(file_path, data)"
   ]
  },
  {
   "cell_type": "code",
   "execution_count": 82,
   "id": "0360daeb",
   "metadata": {},
   "outputs": [],
   "source": [
    "if os.path.exists(file_path):\n",
    "    data = np.load(file_path, allow_pickle=True).item()"
   ]
  },
  {
   "cell_type": "code",
   "execution_count": 90,
   "id": "1b545215",
   "metadata": {},
   "outputs": [
    {
     "data": {
      "text/plain": [
       "array([1.0686065 , 0.85416096, 0.95226634, 0.80609393, 1.0191482 ,\n",
       "       0.8875611 , 0.9122117 , 0.96585965, 0.98298913, 1.2769927 ],\n",
       "      dtype=float32)"
      ]
     },
     "execution_count": 90,
     "metadata": {},
     "output_type": "execute_result"
    }
   ],
   "source": [
    "torch.diag(data['0.1']['A_estimated']).detach().numpy()"
   ]
  },
  {
   "cell_type": "code",
   "execution_count": 114,
   "id": "d5768c21",
   "metadata": {},
   "outputs": [],
   "source": [
    "stddev='0.9'\n",
    "pred_array=torch.diag(data[stddev]['A_estimated']).detach().numpy()\n",
    "pred_list=data[stddev]['y_pred']"
   ]
  },
  {
   "cell_type": "code",
   "execution_count": 115,
   "id": "07613b05",
   "metadata": {},
   "outputs": [
    {
     "data": {
      "image/png": "[encoded data removed]",
      "text/plain": [
       "<Figure size 640x480 with 1 Axes>"
      ]
     },
     "metadata": {},
     "output_type": "display_data"
    }
   ],
   "source": [
    "colors = plt.cm.Blues(np.linspace(0.5, 0.8, len(pred_list)))\n",
    "\n",
    "# Plot each prediction array\n",
    "for i, prediction in enumerate(pred_list):\n",
    "    plt.scatter(range(len(prediction)), prediction, color=colors[i], alpha=0.8)\n",
    "    \n",
    "\n",
    "# Plot each float in pred_array\n",
    "plt.scatter(range(len(pred_array)), pred_array, color='red', s=100)\n",
    "\n",
    "# Set axis labels and title\n",
    "plt.xlabel('Position')\n",
    "plt.ylabel('Prediction')\n",
    "plt.title('Evolution of Predictions for standard deviation of : ' + stddev)\n",
    "\n",
    "# Show the plot\n",
    "plt.show()"
   ]
  },
  {
   "cell_type": "code",
   "execution_count": 210,
   "id": "5c48f0b0",
   "metadata": {},
   "outputs": [
    {
     "data": {
      "image/png": "[encoded data removed]",
      "text/plain": [
       "<Figure size 640x480 with 1 Axes>"
      ]
     },
     "metadata": {},
     "output_type": "display_data"
    }
   ],
   "source": [
    "import matplotlib.pyplot as plt\n",
    "\n",
    "frob_losses_500=frob_losses\n",
    "keys = [float(k) for k in frob_losses.keys()]\n",
    "values = list(frob_losses.values())\n",
    "\n",
    "plt.plot(keys, values)\n",
    "plt.title(\"evolution of the error with the standard deviation\")\n",
    "plt.xlabel('Standard deviation')\n",
    "plt.ylabel('Frobenius norm of A_true-A_n')\n",
    "plt.show()"
   ]
  },
  {
   "cell_type": "code",
   "execution_count": 209,
   "id": "d7700343",
   "metadata": {},
   "outputs": [
    {
     "data": {
      "image/png": "[encoded data removed]",
      "text/plain": [
       "<Figure size 640x480 with 1 Axes>"
      ]
     },
     "metadata": {},
     "output_type": "display_data"
    }
   ],
   "source": [
    "for key, values in training_losses.items():\n",
    "    plt.plot(values[:4], label=key)\n",
    "\n",
    "plt.title('error for each standard deviation')\n",
    "plt.ylabel('error')\n",
    "\n",
    "plt.legend()\n",
    "plt.show()"
   ]
  }
 ],
 "metadata": {
  "kernelspec": {
   "display_name": "Python 3 (ipykernel)",
   "language": "python",
   "name": "python3"
  },
  "language_info": {
   "codemirror_mode": {
    "name": "ipython",
    "version": 3
   },
   "file_extension": ".py",
   "mimetype": "text/x-python",
   "name": "python",
   "nbconvert_exporter": "python",
   "pygments_lexer": "ipython3",
   "version": "3.9.15"
  }
 },
 "nbformat": 4,
 "nbformat_minor": 5
}
